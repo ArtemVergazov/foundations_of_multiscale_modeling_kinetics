{
 "cells": [
  {
   "cell_type": "markdown",
   "id": "b3fe0c1d",
   "metadata": {},
   "source": [
    "# Task 1"
   ]
  },
  {
   "cell_type": "code",
   "execution_count": 19,
   "id": "7a02458b",
   "metadata": {},
   "outputs": [],
   "source": [
    "N = 64\n",
    "box_size = 16.\n",
    "dt = .01\n",
    "eps = 1.\n",
    "sigma = 1."
   ]
  },
  {
   "cell_type": "code",
   "execution_count": 20,
   "id": "b9b7fdc3",
   "metadata": {},
   "outputs": [],
   "source": [
    "# For numerical differentiation.\n",
    "dx = box_size / 10000\n",
    "dy = box_size / 10000\n",
    "dz = box_size / 10000"
   ]
  },
  {
   "cell_type": "code",
   "execution_count": 21,
   "id": "7e35b9d6",
   "metadata": {},
   "outputs": [],
   "source": [
    "import numpy as np"
   ]
  },
  {
   "cell_type": "code",
   "execution_count": 22,
   "id": "f6eb5e78",
   "metadata": {},
   "outputs": [],
   "source": [
    "N_1d = round(N**(1 / 3))\n",
    "cell_size = box_size / N_1d\n",
    "x = np.linspace(cell_size / 2, box_size - cell_size / 2, num=N_1d)\n",
    "y = np.linspace(cell_size / 2, box_size - cell_size / 2, num=N_1d)\n",
    "z = np.linspace(cell_size / 2, box_size - cell_size / 2, num=N_1d)\n",
    "\n",
    "X, Y, Z = np.meshgrid(x, y, z)\n",
    "\n",
    "x = X.reshape((N, 1))\n",
    "y = Y.reshape((N, 1))\n",
    "z = Z.reshape((N, 1))"
   ]
  },
  {
   "cell_type": "code",
   "execution_count": 23,
   "id": "1be0112a",
   "metadata": {},
   "outputs": [],
   "source": [
    "vlims = [-10, 10]\n",
    "\n",
    "vx = (vlims[1] - vlims[0]) * np.random.random_sample(size=N) + vlims[0]\n",
    "vy = (vlims[1] - vlims[0]) * np.random.random_sample(size=N) + vlims[0]\n",
    "vz = (vlims[1] - vlims[0]) * np.random.random_sample(size=N) + vlims[0]\n",
    "\n",
    "vx = vx.reshape((N, 1))\n",
    "vy = vy.reshape((N, 1))\n",
    "vz = vz.reshape((N, 1))\n",
    "\n",
    "vx_center = vx.mean()\n",
    "vy_center = vy.mean()\n",
    "vz_center = vz.mean()\n",
    "\n",
    "v0 = np.sqrt(vx**2 + vy**2 + vz**2)"
   ]
  },
  {
   "cell_type": "code",
   "execution_count": 24,
   "id": "406aab80",
   "metadata": {},
   "outputs": [],
   "source": [
    "def U(r):\n",
    "    sigma_over_r6 = (sigma / r)**6\n",
    "    return 4 * eps * sigma_over_r6 * (sigma_over_r6 - 1)"
   ]
  },
  {
   "cell_type": "code",
   "execution_count": 25,
   "id": "7379b763",
   "metadata": {},
   "outputs": [],
   "source": [
    "def shortest(r1, r2):\n",
    "    dr = r1 - r2\n",
    "    return np.linalg.norm(np.array([\n",
    "        min(dr[0], box_size - dr[0]),\n",
    "        min(dr[1], box_size - dr[1]),\n",
    "        min(dr[2], box_size - dr[2]),\n",
    "    ]))"
   ]
  },
  {
   "cell_type": "code",
   "execution_count": 26,
   "id": "9eb9a854",
   "metadata": {},
   "outputs": [],
   "source": [
    "def energy(x, y, z, vx, vy, vz):\n",
    "    # Kinetic energy.\n",
    "    E = (vx**2 + vy**2 + vz**2).sum() / 2\n",
    "    \n",
    "    # Potential energy.\n",
    "    Umat = np.zeros((N, N))\n",
    "    \n",
    "    for i in range(N):\n",
    "        ri = np.array([x[i], y[i], z[i]])\n",
    "        for j in range(i + 1, N):\n",
    "            rj = np.array([x[j], y[j], z[j]])\n",
    "            E += U(shortest(ri, rj))\n",
    "    \n",
    "    return E"
   ]
  },
  {
   "cell_type": "code",
   "execution_count": 27,
   "id": "eb8429ea",
   "metadata": {},
   "outputs": [],
   "source": [
    "# Force from j-th particle to i-th particle.\n",
    "def f(ri, rj):\n",
    "    U0 = U(np.linalg.norm(ri - rj))\n",
    "    \n",
    "    rix = ri; rix[0] += dx\n",
    "    Ux = U(np.linalg.norm(rix - rj))\n",
    "    fx = -(Ux - U0) / dx\n",
    "    \n",
    "    riy = ri; riy[1] += dy\n",
    "    Uy = U(np.linalg.norm(riy - rj))\n",
    "    fy = -(Uy - U0) / dy\n",
    "    \n",
    "    riz = ri; riz[2] += dz\n",
    "    Uz = U(np.linalg.norm(riz - rj))\n",
    "    fz = -(Uz - U0) / dz\n",
    "    \n",
    "    return np.array([fx, fy, fz])"
   ]
  },
  {
   "cell_type": "code",
   "execution_count": 28,
   "id": "f3ab345b",
   "metadata": {},
   "outputs": [],
   "source": [
    "def get_a(x, y, z):\n",
    "    ax = np.zeros((N, 1))\n",
    "    ay = np.zeros((N, 1))\n",
    "    az = np.zeros((N, 1))\n",
    "    fxmat = np.zeros((N, N))\n",
    "    fymat = np.zeros((N, N))\n",
    "    fzmat = np.zeros((N, N))\n",
    "    \n",
    "    for i in range(N):\n",
    "        ri = np.array([x[i], y[i], z[i]])\n",
    "        \n",
    "        for j in range(i):\n",
    "            # Copy previously counted values according to the III Newton's law.\n",
    "            ax[i] -= fxmat[j, i]\n",
    "            ay[i] -= fymat[j, i]\n",
    "            az[i] -= fzmat[j, i]\n",
    "        \n",
    "        for j in range(i + 1, N):\n",
    "            rj = np.array([x[j], y[j], z[j]])\n",
    "            f_ij = f(ri, rj)\n",
    "            fxmat[i, j] = f_ij[0]\n",
    "            fymat[i, j] = f_ij[1]\n",
    "            fzmat[i, j] = f_ij[2]\n",
    "            \n",
    "            ax[i] += fxmat[i, j]\n",
    "            ay[i] += fymat[i, j]\n",
    "            az[i] += fzmat[i, j]\n",
    "    return ax, ay, az"
   ]
  },
  {
   "cell_type": "code",
   "execution_count": 29,
   "id": "f2e80b24",
   "metadata": {},
   "outputs": [],
   "source": [
    "def Kv(vx, vy, vz):\n",
    "    v = np.sqrt(vx**2 + vy**2 + vz**2)\n",
    "    return np.mean(v0 * v) / np.mean(v0 * v0)"
   ]
  },
  {
   "cell_type": "code",
   "execution_count": 30,
   "id": "f07a1b31",
   "metadata": {},
   "outputs": [],
   "source": [
    "ax, ay, az = get_a(x, y, z)"
   ]
  },
  {
   "cell_type": "code",
   "execution_count": 31,
   "id": "32555283",
   "metadata": {},
   "outputs": [],
   "source": [
    "E_history = [energy(x, y, z, vx, vy, vz)]\n",
    "Kv_history = [Kv(vx, vy, vz)]"
   ]
  },
  {
   "cell_type": "code",
   "execution_count": 32,
   "id": "233d7793",
   "metadata": {},
   "outputs": [],
   "source": [
    "for iter_count in range(50):\n",
    "    x += vx * dt + ax * dt**2 / 2\n",
    "    y += vy * dt + ay * dt**2 / 2\n",
    "    z += vz * dt + az * dt**2 / 2\n",
    "    \n",
    "    x[x > box_size] -= box_size\n",
    "    x[x < box_size] += box_size\n",
    "    y[y > box_size] -= box_size\n",
    "    y[y < box_size] += box_size\n",
    "    z[z > box_size] -= box_size\n",
    "    z[z < box_size] += box_size\n",
    "    \n",
    "    ax_new, ay_new, az_new = get_a(x, y, z)\n",
    "    \n",
    "    vx += (ax_new + ax) * dt / 2\n",
    "    vy += (ay_new + ay) * dt / 2\n",
    "    vz += (az_new + az) * dt / 2\n",
    "    \n",
    "    ax = ax_new.copy()\n",
    "    ay = ay_new.copy()\n",
    "    az = az_new.copy()\n",
    "    \n",
    "    E_history.append(energy(x, y, z, vx, vy, vz))\n",
    "    Kv_history.append(Kv(vx, vy, vz))"
   ]
  },
  {
   "cell_type": "code",
   "execution_count": 33,
   "id": "e02bad94",
   "metadata": {},
   "outputs": [],
   "source": [
    "import matplotlib.pyplot as plt"
   ]
  },
  {
   "cell_type": "code",
   "execution_count": 34,
   "id": "6aec4338",
   "metadata": {},
   "outputs": [
    {
     "data": {
      "image/png": "[encoded data removed]",
      "text/plain": [
       "<Figure size 432x288 with 1 Axes>"
      ]
     },
     "metadata": {
      "needs_background": "light"
     },
     "output_type": "display_data"
    }
   ],
   "source": [
    "# The histogram of the velocities distribution.\n",
    "n, bins, patches = plt.hist(vx - vx_center, bins=64, density=True)\n",
    "\n",
    "#plt.xlim(vlims);\n",
    "# Add a line showing the expected Maxwell's distribution.\n",
    "#maxwell_distr = np.exp(-bins**2 / 2)\n",
    "#plt.plot(bins, maxwell_distr, 'k--', linewidth=1.5);"
   ]
  },
  {
   "cell_type": "code",
   "execution_count": 35,
   "id": "d2b97e20",
   "metadata": {},
   "outputs": [
    {
     "data": {
      "image/png": "[encoded data removed]",
      "text/plain": [
       "<Figure size 432x288 with 1 Axes>"
      ]
     },
     "metadata": {
      "needs_background": "light"
     },
     "output_type": "display_data"
    }
   ],
   "source": [
    "plt.plot(E_history, 'o-')\n",
    "plt.ylim(.9 * E_history[0], 1.1 * E_history[0])\n",
    "plt.xlabel('Iterations')\n",
    "plt.ylabel('Total energy');"
   ]
  },
  {
   "cell_type": "code",
   "execution_count": 36,
   "id": "d2692e3f",
   "metadata": {},
   "outputs": [
    {
     "data": {
      "image/png": "[encoded data removed]",
      "text/plain": [
       "<Figure size 432x288 with 1 Axes>"
      ]
     },
     "metadata": {
      "needs_background": "light"
     },
     "output_type": "display_data"
    }
   ],
   "source": [
    "plt.plot(Kv_history[5:], 'o-');"
   ]
  },
  {
   "cell_type": "code",
   "execution_count": null,
   "id": "ba89b12e",
   "metadata": {},
   "outputs": [],
   "source": []
  },
  {
   "cell_type": "markdown",
   "id": "c9a3418e",
   "metadata": {},
   "source": [
    "# Task 2"
   ]
  },
  {
   "cell_type": "markdown",
   "id": "ab81fdc7",
   "metadata": {},
   "source": [
    "## Subtask a\n",
    "\n",
    "Assuming that $\\langle \\vec{V}(0) \\cdot \\vec{F}(t) \\rangle = 0$, we multiply the equation by $\\vec{V}(0)$ and average:\n",
    "\n",
    "$$M \\frac{d}{dt} \\langle \\vec{V}(0) \\vec{V}(t) \\rangle = -\\gamma \\langle \\vec{V}(0) \\vec{V}(t) \\rangle$$\n",
    "\n",
    "$$\\langle \\vec{V}(0) \\vec{V}(t) \\rangle = \\langle \\vec{V}(0)^2 \\rangle e^{-\\frac{\\gamma}{m} t}$$\n",
    "\n",
    "$$K_V(t) = \\frac{\\langle \\vec{V}(0) \\vec{V}(t) \\rangle}{\\langle \\vec{V}(0)^2 \\rangle} = e^{-\\frac{\\gamma}{m} t}$$"
   ]
  },
  {
   "cell_type": "markdown",
   "id": "99f9d392",
   "metadata": {},
   "source": [
    "## Subtask b"
   ]
  },
  {
   "cell_type": "code",
   "execution_count": null,
   "id": "7f592b57",
   "metadata": {},
   "outputs": [],
   "source": [
    "import numpy as np"
   ]
  },
  {
   "cell_type": "code",
   "execution_count": 38,
   "id": "e26e22aa",
   "metadata": {},
   "outputs": [],
   "source": [
    "U1 = np.random.random_sample(size=10000)  # [0, 1)\n",
    "U2 = np.random.random_sample(size=10000)  # [0, 1)\n",
    "Y = np.sqrt(-2 * np.log(U1)) * np.cos(2 * np.pi * U2)"
   ]
  },
  {
   "cell_type": "code",
   "execution_count": 39,
   "id": "f1c836bc",
   "metadata": {},
   "outputs": [],
   "source": [
    "import matplotlib.pyplot as plt"
   ]
  },
  {
   "cell_type": "code",
   "execution_count": 40,
   "id": "29038eca",
   "metadata": {},
   "outputs": [
    {
     "data": {
      "image/png": "[encoded data removed]",
      "text/plain": [
       "<Figure size 432x288 with 1 Axes>"
      ]
     },
     "metadata": {
      "needs_background": "light"
     },
     "output_type": "display_data"
    }
   ],
   "source": [
    "plt.hist(Y, bins='auto');"
   ]
  },
  {
   "cell_type": "markdown",
   "id": "74aaf25c",
   "metadata": {},
   "source": [
    "## Subtask c"
   ]
  },
  {
   "cell_type": "code",
   "execution_count": 41,
   "id": "ec310a7c",
   "metadata": {},
   "outputs": [],
   "source": [
    "def generate(n):\n",
    "    U1 = np.random.random_sample(size=n)  # [0, 1)\n",
    "    U2 = np.random.random_sample(size=n)  # [0, 1)\n",
    "    return np.sqrt(-2 * np.log(U1)) * np.cos(2 * np.pi * U2)"
   ]
  },
  {
   "cell_type": "code",
   "execution_count": 42,
   "id": "e16a1231",
   "metadata": {},
   "outputs": [
    {
     "data": {
      "image/png": "[encoded data removed]",
      "text/plain": [
       "<Figure size 432x288 with 1 Axes>"
      ]
     },
     "metadata": {
      "needs_background": "light"
     },
     "output_type": "display_data"
    }
   ],
   "source": [
    "plt.hist(generate(10000));"
   ]
  },
  {
   "cell_type": "code",
   "execution_count": 43,
   "id": "d0b4affb",
   "metadata": {},
   "outputs": [],
   "source": [
    "gamma = 1.\n",
    "M = 1.\n",
    "kbT = 1.\n",
    "Gamma = 2 * kbT * gamma\n",
    "dt = .01"
   ]
  },
  {
   "cell_type": "code",
   "execution_count": 44,
   "id": "fe954d47",
   "metadata": {},
   "outputs": [],
   "source": [
    "v = 0.\n",
    "\n",
    "ksi = generate(10000)\n",
    "for i in range(10000):\n",
    "    v = v - gamma / M * v * dt + 1 / M * np.sqrt(Gamma * dt) * ksi[i]\n",
    "    "
   ]
  },
  {
   "cell_type": "code",
   "execution_count": null,
   "id": "d069bbf6",
   "metadata": {},
   "outputs": [],
   "source": []
  }
 ],
 "metadata": {
  "kernelspec": {
   "display_name": "Python 3 (ipykernel)",
   "language": "python",
   "name": "python3"
  },
  "language_info": {
   "codemirror_mode": {
    "name": "ipython",
    "version": 3
   },
   "file_extension": ".py",
   "mimetype": "text/x-python",
   "name": "python",
   "nbconvert_exporter": "python",
   "pygments_lexer": "ipython3",
   "version": "3.9.7"
  }
 },
 "nbformat": 4,
 "nbformat_minor": 5
}
