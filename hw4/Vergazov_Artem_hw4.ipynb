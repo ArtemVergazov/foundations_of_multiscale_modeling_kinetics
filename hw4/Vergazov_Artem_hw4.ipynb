{
 "cells": [
  {
   "cell_type": "markdown",
   "id": "176643ba",
   "metadata": {},
   "source": [
    "# Task 1"
   ]
  },
  {
   "cell_type": "markdown",
   "id": "d46a376d",
   "metadata": {},
   "source": [
    "Boltzmann equation:\n",
    "\n",
    "$$\n",
    "\\frac{\\partial}{\\partial t}f(\\vec{r}, \\vec{v}, t) + \\vec{v} \\cdot \\frac{\\partial f(\\vec{r}, \\vec{v}, t)}{\\partial \\vec{r}} + \\frac{\\vec{F}}{m} \\cdot \\frac{\\partial f(\\vec{r}, \\vec{v}, t)}{\\partial \\vec{v}} = I(f, f)\n",
    "$$"
   ]
  },
  {
   "cell_type": "markdown",
   "id": "8031b2b5",
   "metadata": {},
   "source": [
    "## 1a"
   ]
  },
  {
   "cell_type": "markdown",
   "id": "7af51b2a",
   "metadata": {},
   "source": [
    "By definition:\n",
    "\n",
    "$$\n",
    "n(\\vec{r}, t) = \\int f(\\vec{r}, \\vec{v}, t) d\\vec{v}\n",
    "$$\n",
    "\n",
    "$$\n",
    "n(\\vec{r}, t) \\vec{u}(\\vec{r}, t) = \\int \\vec{v} f(\\vec{r}, \\vec{v}, t) d\\vec{v}\n",
    "$$\n",
    "\n",
    "$$\n",
    "\\frac{3}{2} n(\\vec{r}, t) T(\\vec{r}, t) = \\int \\frac{m V^2}{2} f(\\vec{r}, \\vec{v}, t) d\\vec{v}\n",
    "$$\n",
    "\n",
    "where\n",
    "\n",
    "$$\n",
    "\\vec{V} = \\vec{v} - \\vec{u}(\\vec{r}, t)\n",
    "$$"
   ]
  },
  {
   "cell_type": "markdown",
   "id": "a2ad40b1",
   "metadata": {},
   "source": [
    "Multiplying the BE by $1, \\vec{v}$ and $m \\vec{v}^2 / 2$ and applying the main property of the collision integral, we obtain the following (simplifications are taken partly from Lecture Notes or obtained via Wolfram Mathematica)."
   ]
  },
  {
   "cell_type": "markdown",
   "id": "d7297f29",
   "metadata": {},
   "source": [
    "For 1:\n",
    "\n",
    "$$\n",
    "\\frac{\\partial}{\\partial t} \\int f(\\vec{r}, \\vec{v}, t) d \\vec{v} + \\int \\vec{v} \\cdot \\vec{\\nabla}f(\\vec{r}, \\vec{v}, t) d \\vec{v} + \\frac{\\vec{F}}{m} \\cdot \\int \\frac{\\partial f(\\vec{r}, \\vec{v}, t)}{\\partial \\vec{v}} d \\vec{v} = 0\n",
    "$$\n",
    "\n",
    "$$\n",
    "\\frac{\\partial n}{\\partial t} + \\vec{\\nabla} \\cdot (n \\vec{u}) = 0\n",
    "$$"
   ]
  },
  {
   "cell_type": "markdown",
   "id": "4a943719",
   "metadata": {},
   "source": [
    "For $\\vec{v}$:\n",
    "\n",
    "$$\n",
    "\\frac{\\partial}{\\partial t} \\int \\vec{v} f(\\vec{r}, \\vec{v}, t) d \\vec{v} + \\int \\vec{v} (\\vec{v} \\cdot \\vec{\\nabla})f(\\vec{r}, \\vec{v}, t) d \\vec{v} + \\frac{\\vec{F}}{m} \\cdot \\int \\vec{v} \\frac{\\partial f(\\vec{r}, \\vec{v}, t)}{\\partial \\vec{v}} d \\vec{v} = 0\n",
    "$$\n",
    "\n",
    "$$\n",
    "\\frac{\\partial}{\\partial t}(n \\vec{u}) + \\vec{\\nabla} \\cdot \\int \\vec{v} \\vec{v} f d\\vec{v} - \\frac{\\vec{F}}{m} \\cdot \\int f \\frac{\\partial}{\\partial \\vec{v}} \\vec{v} d\\vec{v} = 0\n",
    "$$\n",
    "\n",
    "$$\n",
    "n \\frac{\\partial \\vec{u}}{\\partial t} - \\vec{u} \\vec{\\nabla} (n \\vec{u}) + \\vec{\\nabla} \\cdot \\int \\vec{V} \\vec{V} f d\\vec{v} + \\vec{\\nabla} \\cdot \\vec{u} \\vec{u} \\int f d\\vec{v} + 2 \\vec{u} \\int \\vec{V} f d\\vec{v} - n \\frac{\\vec{F}}{m} = 0\n",
    "$$\n",
    "\n",
    "By definition:\n",
    "\n",
    "$$\n",
    "\\hat{P} = \\int m \\vec{V} \\vec{V} f d\\vec{v}\n",
    "$$\n",
    "\n",
    "Finally:\n",
    "\n",
    "$$\n",
    "n \\frac{\\partial \\vec{u}}{\\partial t} + \\frac{1}{m} \\vec{\\nabla} \\hat{P} + (n \\vec{u} \\cdot \\vec{\\nabla}) \\vec{u} - n \\frac{\\vec{F}}{m} = 0\n",
    "$$"
   ]
  },
  {
   "cell_type": "markdown",
   "id": "f963a085",
   "metadata": {},
   "source": [
    "For $m v^2 / 2$:\n",
    "\n",
    "$$\n",
    "\\frac{\\partial}{\\partial t} \\int\\left(\\frac{m V^2}{2} + m \\vec{V} \\cdot \\vec{u} + \\frac{m u^2}{2}\\right) f d\\vec{v} + \\int (\\vec{V} + \\vec{u}) \\left(\\frac{m V^2}{2} + m \\vec{V} \\cdot \\vec{u} + \\frac{m u^2}{2}\\right) f d\\vec{v} - \\vec{F} \\cdot \\int f \\vec{v} d\\vec{v} = 0\n",
    "$$\n",
    "\n",
    "The heat flux by definition:\n",
    "\n",
    "$$\n",
    "\\vec{q}(\\vec{r}, t) = \\int \\frac{m V^2}{2} \\vec{V} f d\\vec{v}\n",
    "$$\n",
    "\n",
    "$$\n",
    "\\frac{\\partial}{\\partial t} \\left(\\frac{3}{2} n T\\right) + \\frac{\\partial}{\\partial t} \\left(\\frac{m u^2}{2} n\\right) + \\vec{\\nabla} \\cdot \\vec{q} + \\vec{\\nabla} \\cdot \\vec{u} \\cdot \\hat{P} + \\vec{\\nabla} \\cdot \\frac{3}{2} n T \\vec{u} + \\vec{\\nabla} \\cdot \\frac{n m u^2}{2} \\vec{u} - \\vec{F} \\cdot (n \\vec{u}) = 0\n",
    "$$\n",
    "\n",
    "$$\n",
    "\\frac{3}{2} n \\frac{\\partial T}{\\partial t} + m n \\vec{u} \\cdot \\frac{\\partial \\vec{u}}{\\partial t} + \\vec{\\nabla} \\cdot \\vec{q} + \\vec{\\nabla} \\cdot \\vec{u} \\cdot \\hat{P} + \\frac{3}{2} n \\vec{u} \\cdot \\vec{\\nabla} T + (n \\vec{u}) \\cdot (\\vec{u} \\cdot \\vec{\\nabla} \\vec{u}) - \\vec{F} \\cdot (n \\vec{u}) = 0\n",
    "$$\n",
    "\n",
    "Considering the previous step (for $\\vec{v}$):\n",
    "\n",
    "$$\n",
    "m n \\vec{u} \\cdot \\frac{\\partial \\vec{u}}{\\partial t} + \\vec{u} \\cdot (\\vec{\\nabla} \\cdot \\hat{P}) + m n \\vec{u} \\cdot (\\vec{u} \\cdot \\vec{\\nabla} \\vec{u}) - \\vec{F} \\cdot (n \\vec{u}) = 0\n",
    "$$\n",
    "\n",
    "$$\n",
    "\\frac{3}{2} n \\frac{\\partial T}{\\partial t} + \\vec{\\nabla} \\cdot \\vec{q} + \\vec{\\nabla} \\cdot \\vec{u} \\cdot \\hat{P} - \\vec{u} \\cdot (\\vec{\\nabla} \\cdot \\hat{P}) + \\frac{3}{2} n \\vec{u} \\cdot \\vec{\\nabla} T = 0\n",
    "$$\n",
    "\n",
    "$$\n",
    "\\frac{\\partial T}{\\partial t} + \\vec{u} \\cdot \\vec{\\nabla} T + \\frac{2}{3 n} \\left(\\vec{\\nabla} \\cdot \\vec{q} + \\hat{P} \\cdot \\vec{\\nabla} \\cdot \\vec{u}\\right) = 0\n",
    "$$"
   ]
  },
  {
   "cell_type": "markdown",
   "id": "ec3984eb",
   "metadata": {},
   "source": [
    "Thus we obtained the Navier–Stokes equations:\n",
    "\n",
    "$$\n",
    "\\frac{\\partial n}{\\partial t} = -\\vec{\\nabla} \\cdot (n \\vec{u})\n",
    "$$\n",
    "\n",
    "$$\n",
    "\\frac{\\partial \\vec{u}}{\\partial t} = -\\frac{1}{m n} \\vec{\\nabla} \\cdot \\hat{P} - (\\vec{u} \\cdot \\vec{\\nabla}) \\vec{u} + \\frac{\\vec{F}}{m}\n",
    "$$\n",
    "\n",
    "$$\n",
    "\\frac{\\partial T}{\\partial t} = -\\vec{u} \\cdot \\vec{\\nabla} T - \\frac{2}{3 n} \\left(\\vec{\\nabla} \\cdot \\vec{q} + \\hat{P} \\cdot \\vec{\\nabla} \\cdot \\vec{u}\\right)\n",
    "$$"
   ]
  },
  {
   "cell_type": "markdown",
   "id": "26c261d7",
   "metadata": {},
   "source": [
    "## 1b"
   ]
  },
  {
   "cell_type": "markdown",
   "id": "e21ac0a7",
   "metadata": {},
   "source": [
    "$$\n",
    "\\tau^{-1} = \\tau_0^{-1} (V^2 / v_T^2)\n",
    "$$\n",
    "\n",
    "$$\n",
    "v_T^2 = 2 k_B T / m, \\quad k_B = 1\n",
    "$$"
   ]
  },
  {
   "cell_type": "markdown",
   "id": "63752ac3",
   "metadata": {},
   "source": [
    "The BE for the BGK model:\n",
    "\n",
    "$$\n",
    "\\frac{\\partial f}{\\partial t} + \\vec{v} \\cdot \\vec{\\nabla} f = -\\frac{f - f_M}{\\tau}\n",
    "$$\n",
    "\n",
    "$$\n",
    "f_M(\\vec{v}) = \\frac{n}{\\pi^{3 / 2} v_T^3} e^{-(\\vec{v} - \\vec{u})^2 / v_T^2}\n",
    "$$\n",
    "\n",
    "$$\n",
    "v_T = \\left(\\frac{2 T}{m}\\right)^{1 / 2}\n",
    "$$"
   ]
  },
  {
   "cell_type": "markdown",
   "id": "46b2c3f4",
   "metadata": {},
   "source": [
    "CE scheme:\n",
    "\n",
    "$$\n",
    "f^{(0)} = f_M\n",
    "$$\n",
    "\n",
    "$$\n",
    "f^{(1)} = \\vec{\\alpha}(\\vec{V}) \\cdot \\vec{\\nabla} T + \\vec{\\beta}(\\vec{V}) \\cdot \\vec{\\nabla} n + \\gamma_{ij}(\\vec{V}) \\nabla_j u_i\n",
    "$$\n",
    "\n",
    "From the lectures:\n",
    "\n",
    "$$\n",
    "\\vec{A} \\cdot \\vec{\\nabla} T + \\vec{B} \\cdot \\vec{\\nabla} n + C_{ij} \\nabla_j u_i = -J^{(1)}(f_M, f^{(1)})\n",
    "$$\n",
    "\n",
    "$$\n",
    "\\vec{A} = -\\frac{f_M}{T^2} \\vec{V} \\left(\\frac{m V^2}{2} - \\frac{5}{2} T\\right) = -\\frac{1}{T^2} \\vec{S}(\\vec{V}) f_M\n",
    "$$\n",
    "\n",
    "$$\n",
    "C_{ij} = -\\frac{f_M}{T} (m V_i V_j - \\frac{1}{3} m V^2 \\delta_{ij}) = \\frac{1}{T} D_{ij}(V) f_M\n",
    "$$"
   ]
  },
  {
   "cell_type": "markdown",
   "id": "dcf5a931",
   "metadata": {},
   "source": [
    "$$\n",
    "J^{(1)} = -\\frac{f - f_M}{\\tau} = -\\frac{\\lambda f^{(1)}}{\\tau}\n",
    "$$\n",
    "\n",
    "$$\n",
    "\\vec{A} \\cdot \\vec{\\nabla} T + \\vec{B} \\cdot \\vec{\\nabla} n + C_{ij} \\nabla_j u_i = \\tau^{-1} (\\vec{\\alpha}(\\vec{V}) \\cdot \\vec{\\nabla} T + \\vec{\\beta}(\\vec{V}) \\cdot \\vec{\\nabla} \\cdot \\vec{\\nabla} n + \\gamma_{ij}(\\vec{V}) \\nabla_j u_i)\n",
    "$$\n",
    "\n",
    "$$\n",
    "\\vec{\\alpha}(\\vec{V}) = \\tau \\vec{A}, \\quad \\vec{\\beta}(\\vec{V}) = \\tau \\vec{B} = 0, \\quad \\gamma_{ij}(\\vec{V}) = \\tau C_{ij}\n",
    "$$\n",
    "\n",
    "$$\n",
    "f = f_M + \\tau \\vec{A} \\cdot \\vec{\\nabla} T + \\tau C_{ij} \\nabla_j u_i\n",
    "$$"
   ]
  },
  {
   "cell_type": "markdown",
   "id": "41c0ed46",
   "metadata": {},
   "source": [
    "In lectures we obtained:\n",
    "\n",
    "$$\n",
    "\\eta = -\\frac{1}{10} \\int D_{ij}(V) \\tau C_{ij} d\\vec{V}\n",
    "$$\n",
    "\n",
    "$$\n",
    "\\kappa = -\\frac{1}{3} \\int \\vec{S}(\\vec{V}) \\cdot \\tau \\vec{A} d\\vec{V}\n",
    "$$"
   ]
  },
  {
   "cell_type": "markdown",
   "id": "99bd278b",
   "metadata": {},
   "source": [
    "$$\n",
    "\\eta = \\frac{\\tau_0}{10 T} \\int \\frac{v_T^2}{V^2} D_{ij}(V) D_{ij}(V) f_M(V) d\\vec{V}\n",
    "$$\n",
    "\n",
    "$$\n",
    "\\vec{c} = \\vec{V} / v_T\n",
    "$$\n",
    "\n",
    "$$\n",
    "\\eta = \\frac{\\tau_0 m^2 v_T^4 n}{15 \\pi^{3 / 2} T} \\int c^2 e^{-c^2} d\\vec{c} = \\frac{4 \\pi \\tau_0 m^2 v_T^4 n}{15 \\pi^{3 / 2} T} \\int_0^\\infty c^2 e^{-c^2} d\\vec{c} = \\frac{2}{5} \\tau_0 n T\n",
    "$$\n",
    "\n",
    "$$\n",
    "\\kappa = \\frac{\\tau_0 v_T^2}{3 T^2} \\int \\left(\\frac{m V^2}{2} - \\frac{5}{2} T\\right)^2 f_M d\\vec{V} = \\frac{5}{3} \\tau_0 \\frac{n T}{m}\n",
    "$$"
   ]
  },
  {
   "cell_type": "markdown",
   "id": "50f522ec",
   "metadata": {},
   "source": [
    "# Task 2"
   ]
  },
  {
   "cell_type": "code",
   "execution_count": 1,
   "id": "84fa0e53",
   "metadata": {},
   "outputs": [],
   "source": [
    "import numpy as np\n",
    "import matplotlib.pyplot as plt\n",
    "from tqdm import trange"
   ]
  },
  {
   "cell_type": "code",
   "execution_count": 2,
   "id": "fa3d87fd",
   "metadata": {},
   "outputs": [],
   "source": [
    "def streaming_step(f):\n",
    "    f[2, :-1, 1:] = f[2, :-1, :-1]\n",
    "    f[6, :-1, 1:] = f[6, 1:, :-1]\n",
    "    \n",
    "    f[1, 1:, 1:] = f[1, :-1, 1:]\n",
    "    f[5, 1:, 1:] = f[5, :-1, :-1]\n",
    "    \n",
    "    f[4, 1:, :-1] = f[4, 1:, 1:]\n",
    "    f[8, 1:, :-1] = f[8, :-1, 1:]\n",
    "    \n",
    "    f[3, :-1, :-1] = f[3, 1:, :-1]\n",
    "    f[7, :-1, :-1] = f[7, 1:, 1:]\n",
    "    \n",
    "    return f"
   ]
  },
  {
   "cell_type": "code",
   "execution_count": 92,
   "id": "6b97b2d4",
   "metadata": {},
   "outputs": [],
   "source": [
    "def collision_step(f, f_eq):\n",
    "    return f - (f - f_eq) / tau"
   ]
  },
  {
   "cell_type": "code",
   "execution_count": 93,
   "id": "c7e54bca",
   "metadata": {},
   "outputs": [],
   "source": [
    "def boundaries(f):\n",
    "    # West.\n",
    "    ux = 1 - (\n",
    "        f[0, 0, 1:-1] + f[2, 0, 1:-1] + f[4, 0, 1:-1] + 2 * (f[3, 0, 1:-1] + f[6, 0, 1:-1] + f[7, 0, 1:-1])\n",
    "    ) / rho_in\n",
    "    f[1, 0, 1:-1] = f[3, 0, 1:-1] + 2 / 3 * rho_in * ux\n",
    "    f[5, 0, 1:-1] = f[7, 0, 1:-1] - .5 * (f[2, 0, 1:-1] - f[4, 0, 1:-1]) + rho_in * ux / 6\n",
    "    f[8, 0, 1:-1] = f[6, 0, 1:-1] + .5 * (f[2, 0, 1:-1] - f[4, 0, 1:-1]) + rho_in * ux / 6\n",
    "    \n",
    "    # South.\n",
    "    f[2, 1:-1, 0] = f[4, 1:-1, 0]\n",
    "    f[5, 1:-1, 0] = f[7, 1:-1, 0] - .5 * (f[1, 1:-1, 0] - f[3, 1:-1, 0])\n",
    "    f[6, 1:-1, 0] = f[8, 1:-1, 0] + .5 * (f[1, 1:-1, 0] - f[3, 1:-1, 0])\n",
    "    \n",
    "    # East.\n",
    "    ux = -1 + (\n",
    "        f[0, -1, 1:-1] + f[2, -1, 1:-1] + f[4, -1, 1:-1] + 2 * (f[1, -1, 1:-1] + f[5, -1, 1:-1] + f[8, -1, 1:-1])\n",
    "    ) / rho_out\n",
    "#     print(ux)\n",
    "    f[3, -1, 1:-1] = f[1, -1, 1:-1] - 2 / 3 * rho_out * ux\n",
    "    f[7, -1, 1:-1] = f[5, -1, 1:-1] + .5 * (f[2, -1, 1:-1] - f[4, -1, 1:-1]) - rho_out * ux / 6\n",
    "    f[6, -1, 1:-1] = f[8, -1, 1:-1] - .5 * (f[2, -1, 1:-1] - f[4, -1, 1:-1]) - rho_out * ux / 6\n",
    "    \n",
    "    # North.\n",
    "    f[4, 1:-1, -1] = f[2, 1:-1, -1]\n",
    "    f[7, 1:-1, -1] = f[5, 1:-1, -1] + .5 * (f[1, 1:-1, -1] - f[3, 1:-1, -1])\n",
    "    f[8, 1:-1, -1] = f[6, 1:-1, -1] - .5 * (f[1, 1:-1, -1] - f[3, 1:-1, -1])\n",
    "    \n",
    "    # NW.\n",
    "    f[1, 0, -1] = f[3, 0, -1]\n",
    "    f[4, 0, -1] = f[2, 0, -1]\n",
    "    f[8, 0, -1] = f[6, 0, -1]\n",
    "    f[5, 0, -1] = .5 * (rho_in - f[[0, 1, 2, 3, 4, 6, 8], 0, -1].sum())\n",
    "    f[7, 0, -1] = f[5, 0, -1]\n",
    "    \n",
    "    # SW.\n",
    "    f[1, 0, 0] = f[3, 0, 0]\n",
    "    f[2, 0, 0] = f[4, 0, 0]\n",
    "    f[5, 0, 0] = f[7, 0, 0]\n",
    "    f[6, 0, 0] = .5 * (rho_in - f[[0, 1, 2, 3, 4, 5, 7], 0, 0].sum())\n",
    "    f[8, 0, 0] = f[6, 0, 0]\n",
    "    \n",
    "    # SE.\n",
    "    f[2, -1, 0] = f[4, -1, 0]\n",
    "    f[3, -1, 0] = f[1, -1, 0]\n",
    "    f[6, -1, 0] = f[8, -1, 0]\n",
    "    f[5, -1, 0] = .5 * (rho_out - f[[0, 1, 2, 3, 4, 6, 8], -1, 0].sum())\n",
    "    f[7, -1, 0] = f[5, -1, 0]\n",
    "    \n",
    "    # NE.\n",
    "    f[3, -1, -1] = f[1, -1, -1]\n",
    "    f[4, -1, -1] = f[2, -1, -1]\n",
    "    f[7, -1, -1] = f[5, -1, -1]\n",
    "    f[6, -1, -1] = .5 * (rho_out - f[[0, 1, 2, 3, 4, 5, 7], -1, -1].sum())\n",
    "    f[8, -1, -1] = f[6, -1, -1]\n",
    "    \n",
    "    return f"
   ]
  },
  {
   "cell_type": "code",
   "execution_count": 94,
   "id": "41970998",
   "metadata": {},
   "outputs": [],
   "source": [
    "def rho_u(f, e):\n",
    "    rho = np.zeros((nx, ny))\n",
    "    u = np.zeros((2, nx, ny))\n",
    "    \n",
    "    rho[0, :] = rho_in\n",
    "    rho[-1, :] = rho_out\n",
    "    for i in range(1, nx - 1):\n",
    "        for j in range(ny):\n",
    "            rho[i, j] = f[:, i, j].sum()\n",
    "#     rho[1:-1, :] = f[:, 1:-1, :].sum(axis=0)\n",
    "    \n",
    "    u[:, :, 0] = 0\n",
    "    u[:, :, -1] = 0\n",
    "    u[0, 0, 1:-1] = 1 - (\n",
    "        f[0, 0, 1:-1] + f[2, 0, 1:-1] + f[4, 0, 1:-1] + 2 * (f[3, 0, 1:-1] + f[6, 0, 1:-1] + f[7, 0, 1:-1])\n",
    "    ) / rho_in\n",
    "    u[1, 0, 1:-1] = 0\n",
    "    u[0, -1, 1:-1] = -1 + (\n",
    "        f[0, -1, 1:-1] + f[2, -1, 1:-1] + f[4, -1, 1:-1] + 2 * (f[1, -1, 1:-1] + f[5, -1, 1:-1] + f[8, -1, 1:-1])\n",
    "    ) / rho_out\n",
    "    u[1, -1, 1:-1] = 0\n",
    "    u[0, 1:-1, 1:-1] = (\n",
    "        f[1, 1:-1, 1:-1] - f[3, 1:-1, 1:-1] + f[5, 1:-1, 1:-1] -\n",
    "        f[6, 1:-1, 1:-1] - f[7, 1:-1, 1:-1] + f[8, 1:-1, 1:-1]\n",
    "    ) / rho[1:-1, 1:-1]\n",
    "    u[1, 1:-1, 1:-1] = (\n",
    "        f[2, 1:-1, 1:-1] - f[4, 1:-1, 1:-1] + f[5, 1:-1, 1:-1] +\n",
    "        f[6, 1:-1, 1:-1] - f[7, 1:-1, 1:-1] - f[8, 1:-1, 1:-1]\n",
    "    ) / rho[1:-1, 1:-1]\n",
    "    \n",
    "    return rho, u"
   ]
  },
  {
   "cell_type": "code",
   "execution_count": 95,
   "id": "5c93db7c",
   "metadata": {},
   "outputs": [],
   "source": [
    "def get_f_eq(rho, u, e):\n",
    "    f_eq = np.zeros((9, nx, ny))\n",
    "    w = np.array([4 / 9] + [1 / 9] * 4 + [1 / 36] * 4)\n",
    "    \n",
    "    for i in range(9):\n",
    "        eu = u[0, :, :] * e[i, 0] + u[1, :, :] * e[i, 1]\n",
    "#         print(u)\n",
    "#         print(eu)\n",
    "        assert not np.isnan(u).any(), 'NAN in u inside get_f_eq!'\n",
    "        assert not np.isnan(eu).any(), 'NAN in eu inside get_f_eq!'\n",
    "        f_eq[i, :, :] = w[i] * rho * (1 + 3 * eu + 4.5 * eu**2 - 1.5 * (u * u).sum(axis=0))\n",
    "    \n",
    "    return f_eq"
   ]
  },
  {
   "cell_type": "markdown",
   "id": "1b754032",
   "metadata": {},
   "source": [
    "Strangly enough, if rho_out == 0.5, at some point we get exactly zero in f. The error occurs in the east boundary condition, meanwhile the algorithm is correct from the mathematical point of view. 0.5 is the value which breaks the algorithm, so I decided to use another value."
   ]
  },
  {
   "cell_type": "code",
   "execution_count": 98,
   "id": "59de239f",
   "metadata": {},
   "outputs": [],
   "source": [
    "e = np.array([\n",
    "    [0, 0],                             # i = 0\n",
    "    [1, 0], [0, 1], [-1, 0], [0, -1],   # i = 1, 2, 3, 4\n",
    "    [1, 1], [-1, 1], [-1, -1], [1, -1]  # i = 5, 6, 7, 8\n",
    "], dtype=float)\n",
    "\n",
    "nx = 100\n",
    "ny = 20\n",
    "nt = 100\n",
    "\n",
    "f = np.ones((9, nx, ny)) / 9\n",
    "rho = np.ones((nx, ny))\n",
    "rho_in = 1.5\n",
    "rho_out = 1.1\n",
    "u = np.zeros((2, nx, ny))\n",
    "ux_history = np.ones((nt, nx, ny))\n",
    "tau = 2.5"
   ]
  },
  {
   "cell_type": "code",
   "execution_count": 99,
   "id": "d61ece15",
   "metadata": {},
   "outputs": [
    {
     "name": "stderr",
     "output_type": "stream",
     "text": [
      "100%|██████████| 100/100 [00:00<00:00, 249.06it/s]\n"
     ]
    }
   ],
   "source": [
    "for t in trange(nt):\n",
    "#     print(t)\n",
    "    \n",
    "    assert not np.isnan(f).any(), 'NAN in f before streaming_step!'\n",
    "    assert (f >= 0).all(), 'f < 0 before streaming_step!'\n",
    "    \n",
    "    f = streaming_step(f)\n",
    "    \n",
    "    assert not np.isnan(f).any(), 'NAN in f after streaming_step!'\n",
    "    assert (f >= 0).all(), 'f < 0 after streaming_step!'\n",
    "    \n",
    "    f = boundaries(f)\n",
    "    \n",
    "    assert not np.isnan(f).any(), 'NAN in f after boundaries!'\n",
    "    assert (f >= 0).all(), 'f < 0 after boundaries!'\n",
    "#     print()\n",
    "    \n",
    "    rho, u = rho_u(f, e)\n",
    "    \n",
    "    assert not np.isnan(rho).any(), 'NAN in rho after rho_u!'\n",
    "    assert not np.isnan(u).any(), 'NAN in u after rho_u!'\n",
    "    \n",
    "    f_eq = get_f_eq(rho, u, e)\n",
    "    \n",
    "    assert not np.isnan(f_eq).any(), 'NAN in f_eq after get_f_eq!'\n",
    "    \n",
    "    f = collision_step(f, f_eq)\n",
    "    \n",
    "    assert not np.isnan(f).any(), 'NAN in f after collision_step!'\n",
    "    assert (f >= 0).all(), 'f < 0 after collision_step!'\n",
    "    \n",
    "    ux_history[t, :, :] = u[0, :, :]"
   ]
  },
  {
   "cell_type": "code",
   "execution_count": 109,
   "id": "5bc0036f",
   "metadata": {},
   "outputs": [
    {
     "data": {
      "image/png": "[encoded data removed]",
      "text/plain": [
       "<Figure size 432x288 with 1 Axes>"
      ]
     },
     "metadata": {
      "needs_background": "light"
     },
     "output_type": "display_data"
    }
   ],
   "source": [
    "y = np.arange(ny)\n",
    "ux = u[0, 50, :]\n",
    "plt.plot(ux, y)\n",
    "plt.xlabel('y')\n",
    "plt.ylabel('$u_x(y)$');"
   ]
  },
  {
   "cell_type": "code",
   "execution_count": 111,
   "id": "5ff37aba",
   "metadata": {},
   "outputs": [
    {
     "data": {
      "image/png": "[encoded data removed]",
      "text/plain": [
       "<Figure size 432x288 with 1 Axes>"
      ]
     },
     "metadata": {
      "needs_background": "light"
     },
     "output_type": "display_data"
    }
   ],
   "source": [
    "plt.imshow(u[0, :, :].T)\n",
    "plt.xlabel('x')\n",
    "plt.ylabel('y')\n",
    "plt.title('$u_x$');"
   ]
  },
  {
   "cell_type": "code",
   "execution_count": 113,
   "id": "fa16a846",
   "metadata": {},
   "outputs": [
    {
     "data": {
      "text/plain": [
       "Text(0.5, 1.0, 'rho')"
      ]
     },
     "execution_count": 113,
     "metadata": {},
     "output_type": "execute_result"
    },
    {
     "data": {
      "image/png": "[encoded data removed]",
      "text/plain": [
       "<Figure size 432x288 with 1 Axes>"
      ]
     },
     "metadata": {
      "needs_background": "light"
     },
     "output_type": "display_data"
    }
   ],
   "source": [
    "plt.imshow(rho.T)\n",
    "plt.xlabel('x')\n",
    "plt.ylabel('y')\n",
    "plt.title('rho')"
   ]
  },
  {
   "cell_type": "code",
   "execution_count": null,
   "id": "5b94ae75",
   "metadata": {},
   "outputs": [],
   "source": []
  }
 ],
 "metadata": {
  "kernelspec": {
   "display_name": "Python 3 (ipykernel)",
   "language": "python",
   "name": "python3"
  },
  "language_info": {
   "codemirror_mode": {
    "name": "ipython",
    "version": 3
   },
   "file_extension": ".py",
   "mimetype": "text/x-python",
   "name": "python",
   "nbconvert_exporter": "python",
   "pygments_lexer": "ipython3",
   "version": "3.9.7"
  }
 },
 "nbformat": 4,
 "nbformat_minor": 5
}
