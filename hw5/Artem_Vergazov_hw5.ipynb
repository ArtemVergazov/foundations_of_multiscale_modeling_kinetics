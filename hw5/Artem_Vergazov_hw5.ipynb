{
 "cells": [
  {
   "cell_type": "markdown",
   "id": "908aa46d",
   "metadata": {},
   "source": [
    "# Task 2"
   ]
  },
  {
   "cell_type": "markdown",
   "id": "9513f043",
   "metadata": {},
   "source": [
    "Smoluchowski equations:\n",
    "\n",
    "$$\n",
    "\\frac{d n_1}{d t} = -n_1 \\sum_{j \\ge 1} n_j + n_1 \\sum_{j \\ge 2} \\lambda j n_j + \\frac{1}{2} \\sum_{i, j \\ge 2} \\lambda (i + j) n_i n_j\n",
    "$$\n",
    "\n",
    "$$\n",
    "\\frac{d n_k}{d t} = \\frac{1}{2} \\sum_{i + j = k} n_i n_j - \\sum_{i \\ge 1} (1 + \\lambda) n_i n_k, \\quad k \\ge 2\n",
    "$$"
   ]
  },
  {
   "cell_type": "markdown",
   "id": "d5e3542c",
   "metadata": {},
   "source": [
    "Steady state:\n",
    "\n",
    "$$\n",
    "\\frac{d n_k}{d t} = 0 \\Rightarrow \\frac{1}{2} \\sum_{i + j = k} n_i n_j - \\sum_{i \\ge 1} (1 + \\lambda) n_i n_k = 0\n",
    "$$\n",
    "\n",
    "$$\n",
    "\\frac{1}{2} \\sum_{k \\ge 2} \\sum_{i + j = k} z^k n_i n_j - (1 + \\lambda) \\sum_{i \\ge 1} n_i \\sum_{k \\ge 2} n_k z^k = 0\n",
    "$$"
   ]
  },
  {
   "cell_type": "markdown",
   "id": "906a1154",
   "metadata": {},
   "source": [
    "Applying: $G(z) = \\sum_{k \\ge 1} n_k z^k$ and $N = \\sum_{i \\ge 1} n_i$:\n",
    "\n",
    "$$\n",
    "\\frac{1}{2} \\sum_{k \\ge 2} \\sum_{i + j = k} z^k n_i n_j = \\frac{1}{2} \\sum_{k \\ge 2} \\sum_{i, j \\ge 1} z^k n_i n_j \\delta_{i + j, k} = \\frac{1}{2} \\sum_{i, j \\ge 1} n_i n_j \\sum_{k \\ge 2} z^k \\delta_{i + j, k} = \\frac{1}{2} \\sum_{i, j \\ge 1} z^{i + j} n_i n_j = \\frac{1}{2} G^2\n",
    "$$\n",
    "\n",
    "$$\n",
    "\\frac{1}{2} G^2 - (1 + \\lambda) N G + (1 + \\lambda) N n_1 z = 0\n",
    "$$\n",
    "\n",
    "$$\n",
    "G = (1 + \\lambda) N \\pm (1 + \\lambda) N \\left(1 - \\frac{2 n_1 z}{(1 + \\lambda) N}\\right)^{1 / 2} = (1 + \\lambda) N \\left(1 \\pm \\left(1 - \\frac{2 n_1 z}{(1 + \\lambda) N}\\right)^{1 / 2}\\right)\n",
    "$$"
   ]
  },
  {
   "cell_type": "markdown",
   "id": "5aa2f79e",
   "metadata": {},
   "source": [
    "Using the relation:\n",
    "\n",
    "$$\n",
    "(1 - z)^{1 / 2} = 1 - \\sum_k \\frac{z^k}{2 \\sqrt{\\pi}} \\frac{\\Gamma(k - 1 / 2)}{\\Gamma(k + 1)}\n",
    "$$\n",
    "\n",
    "and:\n",
    "\n",
    "$$\n",
    "n_1 = \\frac{\\lambda}{1 + \\lambda}\n",
    "$$\n",
    "\n",
    "$$\n",
    "G = (1 + \\lambda) N \\left(1 \\pm \\left(1 - \\frac{1}{2 \\sqrt{\\pi}} \\sum_k \\left(\\frac{2 \\lambda z}{(1 + \\lambda)^2 N}\\right)^k \\frac{\\Gamma(k - 1 / 2)}{\\Gamma(k + 1)}\\right)\\right)\n",
    "$$"
   ]
  },
  {
   "cell_type": "markdown",
   "id": "ba0ba55f",
   "metadata": {},
   "source": [
    "$G$ has to be increasing:\n",
    "\n",
    "$$\n",
    "G = \\frac{(1 + \\lambda) N}{2 \\sqrt{\\pi}} \\sum_k \\left(\\frac{2 \\lambda z}{(1 + \\lambda)^2 N}\\right)^k \\frac{\\Gamma(k - 1 / 2)}{\\Gamma(k + 1)}\n",
    "$$"
   ]
  },
  {
   "cell_type": "markdown",
   "id": "d247f1b9",
   "metadata": {},
   "source": [
    "Now we find $N$ (using $G(1) = N$):\n",
    "\n",
    "$$\n",
    "\\frac{1}{2} N^2 - (1 + \\lambda) N^2 + \\lambda N = 0\n",
    "$$\n",
    "\n",
    "$$\n",
    "N = \\frac{2 \\lambda}{2 \\lambda + 1}\n",
    "$$\n",
    "\n",
    "$$\n",
    "G = \\frac{\\lambda (1 + \\lambda)}{\\sqrt{\\pi} (1 + 2 \\lambda)} \\sum_k \\left(\\frac{(1 + 2 \\lambda) z}{(1 + \\lambda)^2}\\right)^k \\frac{\\Gamma(k - 1 / 2)}{\\Gamma(k + 1)}\n",
    "$$\n",
    "\n",
    "$$\n",
    "n_k = \\frac{\\lambda (1 + \\lambda)}{\\sqrt{\\pi} (1 + 2 \\lambda)} \\left(\\frac{(1 + 2 \\lambda)}{(1 + \\lambda)^2}\\right)^k \\frac{\\Gamma(k - 1 / 2)}{\\Gamma(k + 1)}\n",
    "$$"
   ]
  },
  {
   "cell_type": "code",
   "execution_count": 12,
   "id": "bb706298",
   "metadata": {},
   "outputs": [],
   "source": [
    "import numpy as np\n",
    "import scipy.signal as spsg\n",
    "import matplotlib.pyplot as plt\n",
    "from tqdm import trange\n",
    "import math"
   ]
  },
  {
   "cell_type": "code",
   "execution_count": 9,
   "id": "a3d39638",
   "metadata": {},
   "outputs": [],
   "source": [
    "def solve(N0, T, dt, L):\n",
    "    n = np.zeros(N0)\n",
    "    n[0] = 1.\n",
    "    n1 = np.zeros(N0)\n",
    "    m = np.arange(1, N0 + 1)\n",
    "    \n",
    "    for t in trange(T):\n",
    "        N = n.sum()\n",
    "        M = (m[1:] * n[1:]).sum()\n",
    "        n1[0] = n[0] + dt * (-n[0] * N + L * n[0] * M + L * M * (N - n[0]))\n",
    "        \n",
    "        k = spsg.fftconvolve(n, n)\n",
    "        n1[1:] = n[1:] + dt * (.5 * k[:n.shape[0]-1] - (1. + L) * N * n[1:])\n",
    "        n = n1\n",
    "    \n",
    "    return n"
   ]
  },
  {
   "cell_type": "code",
   "execution_count": 11,
   "id": "e4b1bb63",
   "metadata": {},
   "outputs": [],
   "source": [
    "def analytic(s, L):\n",
    "    k = np.arange(1, s + 1)\n",
    "    n = L * (L + 1.) / (2. * L + 1.) / np.sqrt(np.pi) *\\\n",
    "        ((1. + 2. * L) / (1. + L)**2)**k * k**(-3. / 2.)\n",
    "    return n"
   ]
  },
  {
   "cell_type": "code",
   "execution_count": 41,
   "id": "391d96e4",
   "metadata": {},
   "outputs": [],
   "source": [
    "N0 = 100\n",
    "L = .3\n",
    "dt = .01\n",
    "T = math.floor(50 / L / dt)"
   ]
  },
  {
   "cell_type": "code",
   "execution_count": 42,
   "id": "6f88069f",
   "metadata": {},
   "outputs": [
    {
     "name": "stderr",
     "output_type": "stream",
     "text": [
      "100%|██████████| 16666/16666 [00:01<00:00, 11522.25it/s]\n"
     ]
    }
   ],
   "source": [
    "n = solve(N0, T, dt, L)"
   ]
  },
  {
   "cell_type": "code",
   "execution_count": 43,
   "id": "a9cfe488",
   "metadata": {},
   "outputs": [
    {
     "data": {
      "image/png": "[encoded data removed]",
      "text/plain": [
       "<Figure size 432x288 with 1 Axes>"
      ]
     },
     "metadata": {
      "needs_background": "light"
     },
     "output_type": "display_data"
    }
   ],
   "source": [
    "plt.loglog(n, label=f'numerical, $t={dt*T}$')\n",
    "plt.loglog(analytic(N0, L), '--', lw=4, label='analytical')\n",
    "plt.xlabel('$k$')\n",
    "plt.ylabel('$n_k$')\n",
    "plt.title(f'Results for $\\lambda = {L}$')\n",
    "plt.legend();"
   ]
  },
  {
   "cell_type": "code",
   "execution_count": 44,
   "id": "b5585c5c",
   "metadata": {},
   "outputs": [],
   "source": [
    "N0 = 1000\n",
    "L = .1\n",
    "dt = .01\n",
    "T = math.floor(50 / L / dt)"
   ]
  },
  {
   "cell_type": "code",
   "execution_count": 45,
   "id": "e8e33d80",
   "metadata": {},
   "outputs": [
    {
     "name": "stderr",
     "output_type": "stream",
     "text": [
      "100%|██████████| 50000/50000 [00:06<00:00, 7819.61it/s]\n"
     ]
    }
   ],
   "source": [
    "n = solve(N0, T, dt, L)"
   ]
  },
  {
   "cell_type": "code",
   "execution_count": 46,
   "id": "68cf897b",
   "metadata": {},
   "outputs": [
    {
     "data": {
      "image/png": "[encoded data removed]",
      "text/plain": [
       "<Figure size 432x288 with 1 Axes>"
      ]
     },
     "metadata": {
      "needs_background": "light"
     },
     "output_type": "display_data"
    }
   ],
   "source": [
    "plt.loglog(n, label=f'numerical, $t={dt*T}$')\n",
    "plt.loglog(analytic(N0, L), '--', lw=4, label='analytical')\n",
    "plt.xlabel('$k$')\n",
    "plt.ylabel('$n_k$')\n",
    "plt.title(f'Results for $\\lambda = {L}$')\n",
    "plt.legend();"
   ]
  },
  {
   "cell_type": "markdown",
   "id": "a519e011",
   "metadata": {},
   "source": [
    "# Task 3"
   ]
  },
  {
   "cell_type": "code",
   "execution_count": 62,
   "id": "fb11665c",
   "metadata": {},
   "outputs": [],
   "source": [
    "import numpy as np\n",
    "import math\n",
    "import matplotlib.pyplot as plt\n",
    "from tqdm import trange"
   ]
  },
  {
   "cell_type": "code",
   "execution_count": 63,
   "id": "0c170d8b",
   "metadata": {},
   "outputs": [],
   "source": [
    "N0 = 10**5\n",
    "nruns = 10\n",
    "Nmax = 2000"
   ]
  },
  {
   "cell_type": "code",
   "execution_count": 70,
   "id": "f2f0d9e0",
   "metadata": {},
   "outputs": [],
   "source": [
    "def update(s, i, j, r, L):\n",
    "    if r > L / (L + 1):\n",
    "        s = np.append(s, s[i] + s[j])\n",
    "        s = np.delete(s, [i, j])\n",
    "    else:\n",
    "        s = np.append(s, np.ones(int(s[i] + s[j])))\n",
    "        s = np.delete(s, [i, j])\n",
    "    \n",
    "    return s"
   ]
  },
  {
   "cell_type": "code",
   "execution_count": 65,
   "id": "76bff86e",
   "metadata": {},
   "outputs": [],
   "source": [
    "def density(s):\n",
    "    return s.shape[0] / N0"
   ]
  },
  {
   "cell_type": "code",
   "execution_count": 66,
   "id": "972422d2",
   "metadata": {},
   "outputs": [],
   "source": [
    "def find_n(s):\n",
    "    N = int(np.max(s))\n",
    "    n = np.zeros(N + 1)\n",
    "    for k in range(1, N):\n",
    "        n[k] = sum(s == k)\n",
    "    return n"
   ]
  },
  {
   "cell_type": "code",
   "execution_count": 77,
   "id": "aaf5bbda",
   "metadata": {},
   "outputs": [],
   "source": [
    "def ac_method(nruns, T, L):\n",
    "    n_avg = np.zeros(Nmax)\n",
    "    for nrun in trange(nruns):\n",
    "        print(f'simulation # {nrun}')\n",
    "        \n",
    "        k = 0\n",
    "        t = 0.\n",
    "        N = N0\n",
    "        s = np.ones(N)\n",
    "        \n",
    "        while t <= T:\n",
    "            N = s.shape[0]\n",
    "            r = np.random.uniform(0, 1)\n",
    "            i = np.random.randint(1, N)\n",
    "            j = np.random.randint(1, N)\n",
    "            \n",
    "            while i == j:\n",
    "                j = np.random.randint(1, N)\n",
    "            s = update(s, i, j, r, L)\n",
    "            \n",
    "            tau = 2 / N / (N - 1) * N0\n",
    "            t += tau\n",
    "            k += 1\n",
    "            \n",
    "            if k % 10**5 == 0:\n",
    "                print(f'{t} {density(s)} {2 * L / (1. + 2 * L - math.exp(-L * t))}')\n",
    "                d = density(s)\n",
    "            \n",
    "        n = find_n(s)\n",
    "        if n.shape[0] < Nmax:\n",
    "            n = np.append(n, np.zeros(Nmax - n.shape[0]))\n",
    "        \n",
    "        n_avg += n\n",
    "    \n",
    "    n_avg /= nruns\n",
    "    return n_avg"
   ]
  },
  {
   "cell_type": "code",
   "execution_count": 78,
   "id": "84200c72",
   "metadata": {},
   "outputs": [],
   "source": [
    "def analytic(N, L):\n",
    "    k = np.arange(1, N + 1)\n",
    "    n = L * (L + 1.) / (2. * L + 1.) / np.sqrt(np.pi) *\\\n",
    "        ((1. + 2. * L) / (1. + L)**2)**k * k**(-3. / 2.)\n",
    "    return n"
   ]
  },
  {
   "cell_type": "code",
   "execution_count": 79,
   "id": "631b70ae",
   "metadata": {},
   "outputs": [
    {
     "name": "stderr",
     "output_type": "stream",
     "text": [
      "\r",
      "  0%|          | 0/10 [00:00<?, ?it/s]"
     ]
    },
    {
     "name": "stdout",
     "output_type": "stream",
     "text": [
      "simulation # 0\n",
      "4.85525451493386 0.46806 0.4389278471091176\n",
      "16.882029702613657 0.38377 0.3764862691247929\n",
      "30.824365996382742 0.37291 0.37502258821048484\n",
      "45.37073490853792 0.37847 0.3750002874972367\n"
     ]
    },
    {
     "name": "stderr",
     "output_type": "stream",
     "text": [
      "\r",
      " 10%|█         | 1/10 [00:38<05:43, 38.13s/it]"
     ]
    },
    {
     "name": "stdout",
     "output_type": "stream",
     "text": [
      "simulation # 1\n",
      "4.8462046387809545 0.47342 0.43913136699090594\n",
      "17.04786044031318 0.37873 0.3764138655569247\n",
      "31.324414375612168 0.37556 0.3750194414076314\n",
      "45.71966780338559 0.36607 0.375000258923669\n"
     ]
    },
    {
     "name": "stderr",
     "output_type": "stream",
     "text": [
      "\r",
      " 20%|██        | 2/10 [01:20<05:26, 40.82s/it]"
     ]
    },
    {
     "name": "stdout",
     "output_type": "stream",
     "text": [
      "simulation # 2\n",
      "4.837932536396776 0.47318 0.43931804554085996\n",
      "17.136706788474402 0.38137 0.3763765418075157\n",
      "31.029288036679116 0.37295 0.37502124131076553\n",
      "45.2385875384309 0.375 0.3750002991237869\n"
     ]
    },
    {
     "name": "stderr",
     "output_type": "stream",
     "text": [
      "\r",
      " 30%|███       | 3/10 [02:03<04:51, 41.57s/it]"
     ]
    },
    {
     "name": "stdout",
     "output_type": "stream",
     "text": [
      "simulation # 3\n",
      "4.8398977464524515 0.47201 0.439273639819394\n",
      "16.99954041286113 0.37835 0.37643458921256734\n",
      "31.344114140586118 0.37289 0.37501932684322864\n",
      "45.64226479202935 0.37446 0.37500026500646544\n"
     ]
    },
    {
     "name": "stderr",
     "output_type": "stream",
     "text": [
      "\r",
      " 40%|████      | 4/10 [02:45<04:10, 41.71s/it]"
     ]
    },
    {
     "name": "stdout",
     "output_type": "stream",
     "text": [
      "simulation # 4\n",
      "4.872918513145974 0.47186 0.43853273449335406\n",
      "17.05683417837278 0.381 0.37641005008515\n",
      "31.36120673749303 0.37398 0.37501922798803533\n",
      "45.258289173729786 0.38038 0.3750002973610317\n"
     ]
    },
    {
     "name": "stderr",
     "output_type": "stream",
     "text": [
      "\r",
      " 50%|█████     | 5/10 [03:28<03:31, 42.37s/it]"
     ]
    },
    {
     "name": "stdout",
     "output_type": "stream",
     "text": [
      "simulation # 5\n",
      "4.842275315871866 0.47042 0.43921996343136716\n",
      "16.741305222918857 0.38214 0.37655062379916193\n",
      "30.81965000141878 0.37333 0.37502262019279753\n",
      "45.1180144889638 0.38046 0.375000310141745\n"
     ]
    },
    {
     "name": "stderr",
     "output_type": "stream",
     "text": [
      "\r",
      " 60%|██████    | 6/10 [04:11<02:49, 42.35s/it]"
     ]
    },
    {
     "name": "stdout",
     "output_type": "stream",
     "text": [
      "simulation # 6\n",
      "4.864534035802063 0.46933 0.43871993077137367\n",
      "17.097318985223207 0.38474 0.3763929647534337\n",
      "31.30642903644111 0.37297 0.37501954659471076\n",
      "45.834185788994084 0.37097 0.37500025017930605\n"
     ]
    },
    {
     "name": "stderr",
     "output_type": "stream",
     "text": [
      "\r",
      " 70%|███████   | 7/10 [04:52<02:06, 42.04s/it]"
     ]
    },
    {
     "name": "stdout",
     "output_type": "stream",
     "text": [
      "simulation # 7\n",
      "4.856177003745444 0.46837 0.43890714313437956\n",
      "16.969069909625087 0.38538 0.3764478139921398\n",
      "30.854238713976525 0.38017 0.37502238667145693\n",
      "44.97288618153198 0.38019 0.3750003239431262\n"
     ]
    },
    {
     "name": "stderr",
     "output_type": "stream",
     "text": [
      "\r",
      " 80%|████████  | 8/10 [05:36<01:25, 42.71s/it]"
     ]
    },
    {
     "name": "stdout",
     "output_type": "stream",
     "text": [
      "simulation # 8\n",
      "4.8087276211855325 0.47375 0.4399821214478187\n",
      "17.022676729724832 0.37866 0.37642462865895104\n",
      "30.874065130462284 0.37828 0.37502225390454874\n",
      "45.180584312622095 0.37925 0.37500030437438475\n"
     ]
    },
    {
     "name": "stderr",
     "output_type": "stream",
     "text": [
      "\r",
      " 90%|█████████ | 9/10 [06:21<00:43, 43.32s/it]"
     ]
    },
    {
     "name": "stdout",
     "output_type": "stream",
     "text": [
      "simulation # 9\n",
      "4.848411465118148 0.47132 0.43908166998827813\n",
      "17.0407094239071 0.37973 0.3764169134584816\n",
      "31.098456878100663 0.37201 0.37502080505718166\n",
      "45.082561862374085 0.37373 0.3750003134579536\n"
     ]
    },
    {
     "name": "stderr",
     "output_type": "stream",
     "text": [
      "100%|██████████| 10/10 [07:04<00:00, 42.41s/it]\n"
     ]
    }
   ],
   "source": [
    "tmax = 50.\n",
    "L = .3\n",
    "n_avg = ac_method(nruns, tmax, L)"
   ]
  },
  {
   "cell_type": "code",
   "execution_count": 80,
   "id": "b8e58e90",
   "metadata": {},
   "outputs": [
    {
     "data": {
      "image/png": "[encoded data removed]",
      "text/plain": [
       "<Figure size 432x288 with 1 Axes>"
      ]
     },
     "metadata": {
      "needs_background": "light"
     },
     "output_type": "display_data"
    }
   ],
   "source": [
    "n_ana = analytic(int(Nmax / 10), L)\n",
    "plt.loglog(n_avg[1:] / N0, label='Accept-Reject method')\n",
    "plt.loglog(n_ana, '--', label='analytical')\n",
    "plt.xlabel('$k$')\n",
    "plt.ylabel('$n_k$')\n",
    "plt.title(f'Results for $\\lambda = {L}$')\n",
    "plt.legend();"
   ]
  },
  {
   "cell_type": "code",
   "execution_count": 81,
   "id": "054c12d5",
   "metadata": {},
   "outputs": [
    {
     "name": "stderr",
     "output_type": "stream",
     "text": [
      "\r",
      "  0%|          | 0/10 [00:00<?, ?it/s]"
     ]
    },
    {
     "name": "stdout",
     "output_type": "stream",
     "text": [
      "simulation # 0\n",
      "8.831963602512253 0.26861 0.25427798317435274\n"
     ]
    },
    {
     "name": "stderr",
     "output_type": "stream",
     "text": [
      "\r",
      " 10%|█         | 1/10 [00:17<02:39, 17.71s/it]"
     ]
    },
    {
     "name": "stdout",
     "output_type": "stream",
     "text": [
      "simulation # 1\n",
      "8.787121721495998 0.26634 0.25488013410048194\n"
     ]
    },
    {
     "name": "stderr",
     "output_type": "stream",
     "text": [
      "\r",
      " 20%|██        | 2/10 [00:34<02:17, 17.15s/it]"
     ]
    },
    {
     "name": "stdout",
     "output_type": "stream",
     "text": [
      "simulation # 2\n",
      "8.920858444190705 0.26512 0.2531005069796588\n"
     ]
    },
    {
     "name": "stderr",
     "output_type": "stream",
     "text": [
      "\r",
      " 30%|███       | 3/10 [00:52<02:01, 17.35s/it]"
     ]
    },
    {
     "name": "stdout",
     "output_type": "stream",
     "text": [
      "simulation # 3\n",
      "8.942377557698752 0.26634 0.252818667793005\n"
     ]
    },
    {
     "name": "stderr",
     "output_type": "stream",
     "text": [
      "\r",
      " 40%|████      | 4/10 [01:09<01:45, 17.55s/it]"
     ]
    },
    {
     "name": "stdout",
     "output_type": "stream",
     "text": [
      "simulation # 4\n",
      "8.920218519749058 0.26382 0.25310890709177103\n"
     ]
    },
    {
     "name": "stderr",
     "output_type": "stream",
     "text": [
      "\r",
      " 50%|█████     | 5/10 [01:27<01:26, 17.40s/it]"
     ]
    },
    {
     "name": "stdout",
     "output_type": "stream",
     "text": [
      "simulation # 5\n",
      "8.894832032027402 0.26432 0.25344303412967617\n"
     ]
    },
    {
     "name": "stderr",
     "output_type": "stream",
     "text": [
      "\r",
      " 60%|██████    | 6/10 [01:44<01:09, 17.44s/it]"
     ]
    },
    {
     "name": "stdout",
     "output_type": "stream",
     "text": [
      "simulation # 6\n",
      "8.774145707965863 0.27 0.2550554187114673\n"
     ]
    },
    {
     "name": "stderr",
     "output_type": "stream",
     "text": [
      "\r",
      " 70%|███████   | 7/10 [02:02<00:52, 17.46s/it]"
     ]
    },
    {
     "name": "stdout",
     "output_type": "stream",
     "text": [
      "simulation # 7\n",
      "8.858489728359618 0.26609 0.2539243819123856\n"
     ]
    },
    {
     "name": "stderr",
     "output_type": "stream",
     "text": [
      "\r",
      " 80%|████████  | 8/10 [02:18<00:34, 17.18s/it]"
     ]
    },
    {
     "name": "stdout",
     "output_type": "stream",
     "text": [
      "simulation # 8\n",
      "8.997345339488916 0.26388 0.2521043161480861\n"
     ]
    },
    {
     "name": "stderr",
     "output_type": "stream",
     "text": [
      "\r",
      " 90%|█████████ | 9/10 [02:35<00:17, 17.14s/it]"
     ]
    },
    {
     "name": "stdout",
     "output_type": "stream",
     "text": [
      "simulation # 9\n",
      "8.960238415888723 0.26519 0.2525856764013374\n"
     ]
    },
    {
     "name": "stderr",
     "output_type": "stream",
     "text": [
      "100%|██████████| 10/10 [02:53<00:00, 17.33s/it]\n"
     ]
    }
   ],
   "source": [
    "tmax = 50.\n",
    "L = .1\n",
    "n_avg = ac_method(nruns, tmax, L)"
   ]
  },
  {
   "cell_type": "code",
   "execution_count": 82,
   "id": "4cf60399",
   "metadata": {},
   "outputs": [
    {
     "data": {
      "image/png": "[encoded data removed]",
      "text/plain": [
       "<Figure size 432x288 with 1 Axes>"
      ]
     },
     "metadata": {
      "needs_background": "light"
     },
     "output_type": "display_data"
    }
   ],
   "source": [
    "n_ana = analytic(int(Nmax / 10), L)\n",
    "plt.loglog(n_avg[1:] / N0, label='Accept-Reject method')\n",
    "plt.loglog(n_ana, '--', label='analytical')\n",
    "plt.xlabel('$k$')\n",
    "plt.ylabel('$n_k$')\n",
    "plt.title(f'Results for $\\lambda = {L}$')\n",
    "plt.legend();"
   ]
  },
  {
   "cell_type": "code",
   "execution_count": null,
   "id": "6a4b80f8",
   "metadata": {},
   "outputs": [],
   "source": []
  }
 ],
 "metadata": {
  "kernelspec": {
   "display_name": "Python 3 (ipykernel)",
   "language": "python",
   "name": "python3"
  },
  "language_info": {
   "codemirror_mode": {
    "name": "ipython",
    "version": 3
   },
   "file_extension": ".py",
   "mimetype": "text/x-python",
   "name": "python",
   "nbconvert_exporter": "python",
   "pygments_lexer": "ipython3",
   "version": "3.9.7"
  }
 },
 "nbformat": 4,
 "nbformat_minor": 5
}
