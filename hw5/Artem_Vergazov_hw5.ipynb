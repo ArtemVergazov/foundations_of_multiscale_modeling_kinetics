{
 "cells": [
  {
   "cell_type": "markdown",
   "id": "908aa46d",
   "metadata": {},
   "source": [
    "# Task 2"
   ]
  },
  {
   "cell_type": "markdown",
   "id": "9513f043",
   "metadata": {},
   "source": [
    "Smoluchowski equations:\n",
    "\n",
    "$$\n",
    "\\frac{d n_1}{d t} = -n_1 \\sum_{j \\ge 1} n_j + n_1 \\sum_{j \\ge 2} \\lambda j n_j + \\frac{1}{2} \\sum_{i, j \\ge 2} \\lambda (i + j) n_i n_j\n",
    "$$\n",
    "\n",
    "$$\n",
    "\\frac{d n_k}{d t} = \\frac{1}{2} \\sum_{i + j = k} n_i n_j - \\sum_{i \\ge 1} (1 + \\lambda) n_i n_k, \\quad k \\ge 2\n",
    "$$"
   ]
  },
  {
   "cell_type": "markdown",
   "id": "d5e3542c",
   "metadata": {},
   "source": []
  },
  {
   "cell_type": "markdown",
   "id": "906a1154",
   "metadata": {},
   "source": []
  },
  {
   "cell_type": "code",
   "execution_count": null,
   "id": "60b07b0e",
   "metadata": {},
   "outputs": [],
   "source": []
  },
  {
   "cell_type": "code",
   "execution_count": null,
   "id": "0879af4a",
   "metadata": {},
   "outputs": [],
   "source": []
  }
 ],
 "metadata": {
  "kernelspec": {
   "display_name": "Python 3 (ipykernel)",
   "language": "python",
   "name": "python3"
  },
  "language_info": {
   "codemirror_mode": {
    "name": "ipython",
    "version": 3
   },
   "file_extension": ".py",
   "mimetype": "text/x-python",
   "name": "python",
   "nbconvert_exporter": "python",
   "pygments_lexer": "ipython3",
   "version": "3.9.7"
  }
 },
 "nbformat": 4,
 "nbformat_minor": 5
}
