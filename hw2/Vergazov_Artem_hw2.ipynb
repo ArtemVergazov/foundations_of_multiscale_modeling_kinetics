{
 "cells": [
  {
   "cell_type": "markdown",
   "id": "f872268b",
   "metadata": {},
   "source": [
    "# Task 1\n",
    "\n",
    "## 1a\n",
    "\n",
    "$$\n",
    "\\begin{equation}\n",
    "    \\begin{cases}\n",
    "        \\frac{\\partial}{\\partial t} P(x, t) = \\frac{u}{\\gamma} \\frac{\\partial}{\\partial x} P(x, t) + D \\frac{\\partial^2}{\\partial x^2} P(x, t), \\quad x \\ge 0 \\\\\n",
    "        P(x, 0) = \\delta(x - x_0) \\\\\n",
    "        P(\\infty, t) = 0 \\\\\n",
    "        P(0, t) = 0\n",
    "    \\end{cases}\\,\n",
    "\\end{equation}\n",
    "$$\n",
    "\n",
    "To obtain fundamental solution, apply Fourier transform to the equation and initial condition, considering that $P(x, t) = \\int_{-\\infty}^\\infty \\hat{P}(k, t) e^{-i k x} \\frac{d k}{2 \\pi}$ and $\\delta(x - x_0) = \\int_{-\\infty}^\\infty e^{-i k (x - x_0)} \\frac{d k}{2 \\pi}$\n",
    "\n",
    "$$\n",
    "\\begin{equation}\n",
    "    \\begin{cases}\n",
    "        \\frac{\\partial}{\\partial t} \\hat{P}(k, t) = -i \\frac{u}{\\gamma} \\hat{P}(k, t) - D k^2 \\hat{P}(k, t) \\\\\n",
    "        \\hat{P}(k, 0) = e^{i k x_0}\n",
    "    \\end{cases}\\,\n",
    "\\end{equation}\n",
    "$$"
   ]
  },
  {
   "cell_type": "markdown",
   "id": "4568d17f",
   "metadata": {},
   "source": [
    "This is a simple Cauchy problem w. r. t. $t$. The solution is $\\hat{P}(k, t) = e^{-k (i \\frac{u}{\\gamma} + D k) t} e^{i k x_0}$\n",
    "\n",
    "$$\n",
    "P(x, t) = \\int_{-\\infty}^{\\infty} e^{-D k^2 t} e^{-i k (x - x_0 + \\frac{u}{\\gamma} t)} \\frac{d k}{2 \\pi} = \\frac{1}{\\sqrt{4 \\pi D t}} e^{-\\frac{(x - x_0 + \\frac{u}{\\gamma} t)^2}{4 D t}}\n",
    "$$"
   ]
  },
  {
   "cell_type": "markdown",
   "id": "9b991d28",
   "metadata": {},
   "source": [
    "Method of images: construct a mirror solution by setting another source at point $-x_0$: $P_m(x, t) = \\frac{1}{\\sqrt{4 \\pi D t}} e^{-\\frac{(x + x_0 + \\frac{u}{\\gamma} t)^2}{4 D t}}$.\n",
    "\n",
    "$$\n",
    "0 = P(0, t) - C_m P_m(0, t) = \\frac{1}{\\sqrt{4 \\pi D t}} e^{-\\frac{(-x_0 + \\frac{u}{\\gamma} t)^2}{4 D t}} - C_m \\frac{1}{\\sqrt{4 \\pi D t}} e^{-\\frac{(x_0 + \\frac{u}{\\gamma} t)^2}{4 D t}}\n",
    "$$\n",
    "\n",
    "$$\n",
    "C_m = e^{\\frac{u x_0}{\\gamma D}}\n",
    "$$\n",
    "\n",
    "$$\n",
    "P(x, t) = \\frac{1}{\\sqrt{4 \\pi D t}} \\left[e^{-\\frac{(x - x_0 + \\frac{u}{\\gamma} t)^2}{4 D t}} - e^{\\frac{u x_0}{\\gamma D}} e^{-\\frac{(x + x_0 + \\frac{u}{\\gamma} t)^2}{4 D t}}\\right]\n",
    "$$\n",
    "\n",
    "The solution satisfies initial and boundary conditions and the equation itself."
   ]
  },
  {
   "cell_type": "markdown",
   "id": "375e75d4",
   "metadata": {},
   "source": [
    "## 1b\n",
    "\n",
    "These derivations obtained via Wolfram Mathematica.\n",
    "\n",
    "$$\n",
    "S(t) = \\int_0^\\infty P(x, t) d x = 1 - \\frac{1}{2}\\left[\\mathrm{erfc}\\left(\\frac{x_0 - \\frac{u}{\\gamma} t}{\\sqrt{4 D t}}\\right) + e^{\\frac{u x_0}{D \\gamma}} \\mathrm{erfc}\\left(\\frac{x_0 + \\frac{u}{\\gamma} t}{\\sqrt{4 D t}}\\right)\\right]\n",
    "$$\n",
    "\n",
    "$$\n",
    "\\phi_{FP}(t) = -\\frac{d S(t)}{d t} = \\frac{x_0}{\\sqrt{4 \\pi D t^3}} e^{-\\frac{(x_0 - \\frac{u}{\\gamma} t)^2}{4 D t}}\n",
    "$$"
   ]
  },
  {
   "cell_type": "markdown",
   "id": "b0553c80",
   "metadata": {},
   "source": [
    "## 1c\n",
    "\n",
    "For small $t$:\n",
    "\n",
    "$$\n",
    "S(t \\to 0+) \\sim 1 - \\frac{1}{2}\\left[\\mathrm{erfc}\\left(\\frac{x_0}{0}\\right) + e^{\\frac{u x_0}{\\gamma D}} \\mathrm{erfc}\\left(\\frac{x_0}{0}\\right)\\right] \\sim 1 - \\frac{1}{2}(0 + 0) \\sim 1\n",
    "$$\n",
    "\n",
    "$$\n",
    "\\phi_{FP}(t \\to 0+) \\sim \\frac{x_0}{0^{3 / 2}} e^{-\\frac{x_0^2}{0}} \\sim \\frac{e^{-\\infty}}{0^{3 / 2}} \\sim 0\n",
    "$$\n",
    "\n",
    "For large $t$:\n",
    "\n",
    "$$\n",
    "S(t \\to \\infty) \\sim 1 - \\frac{1}{2}\\left[\\mathrm{erfc}\\left(\\frac{-\\infty}{\\sqrt{\\infty}}\\right) + e^{\\frac{u x_0}{\\gamma D}} \\mathrm{erfc}\\left(\\frac{+\\infty}{\\sqrt{\\infty}}\\right)\\right] \\sim 1 - \\frac{1}{2}(\\mathrm{erfc}(-\\infty) + e^a \\mathrm{erfc}(+\\infty)) \\sim 1 - \\frac{1}{2} \\cdot 2 = 0\n",
    "$$\n",
    "\n",
    "$$\n",
    "\\phi_{FP}(t \\to \\infty) \\sim -\\frac{d S(t)}{dt} \\sim 0\n",
    "$$"
   ]
  },
  {
   "cell_type": "markdown",
   "id": "ceaa02ee",
   "metadata": {},
   "source": [
    "## 1d\n",
    "\n",
    "Probability of being trapped in case of $x_0 = 1$, $u = 0$:\n",
    "\n",
    "$$\n",
    "A = 1 - S(\\infty) = \\frac{1}{2}\\left[\\mathrm{erfc}\\left(\\frac{x_0}{\\infty}\\right) + e^0 \\mathrm{erfc}\\left(\\frac{x_0}{\\infty}\\right)\\right] = \\frac{1}{2}(1 + 1) = 1\n",
    "$$\n",
    "\n",
    "Probability of being trapped in case of $x_0 = 1$, $u = -1$:\n",
    "\n",
    "$$\n",
    "A = 1 - S(\\infty) = \\frac{1}{2}\\left[\\mathrm{erfc}\\left(\\frac{+\\infty}{\\sqrt{\\infty}}\\right) + e^{-\\frac{1}{\\gamma D}} \\mathrm{erfc}\\left(\\frac{-\\infty}{\\sqrt{\\infty}}\\right)\\right] = \\frac{1}{2}(0 + e^{-\\frac{1}{\\gamma D}} \\cdot 2) = e^{-\\frac{1}{\\gamma D}}\n",
    "$$\n",
    "\n",
    "Probability of being trapped in case of $x_0 = 1$, $u = 1$:\n",
    "\n",
    "$$\n",
    "A = 1 - S(\\infty) = \\frac{1}{2}\\left[\\mathrm{erfc}\\left(\\frac{-\\infty}{\\sqrt{\\infty}}\\right) + e^{\\frac{1}{\\gamma D}} \\mathrm{erfc}\\left(\\frac{\\infty}{\\sqrt{\\infty}}\\right)\\right] = \\frac{1}{2}(2 + 0) = 1\n",
    "$$"
   ]
  },
  {
   "cell_type": "markdown",
   "id": "839fd775",
   "metadata": {},
   "source": [
    "## 1e"
   ]
  },
  {
   "cell_type": "code",
   "execution_count": 1,
   "id": "8fc00b85",
   "metadata": {},
   "outputs": [],
   "source": [
    "import numpy as np"
   ]
  },
  {
   "cell_type": "code",
   "execution_count": 2,
   "id": "2e13e90a",
   "metadata": {},
   "outputs": [],
   "source": [
    "def generate(n):\n",
    "    U1 = np.random.random_sample(size=n)  # [0, 1)\n",
    "    U2 = np.random.random_sample(size=n)  # [0, 1)\n",
    "    return np.sqrt(-2 * np.log(U1)) * np.cos(2 * np.pi * U2)"
   ]
  },
  {
   "cell_type": "code",
   "execution_count": 3,
   "id": "e4be1cac",
   "metadata": {},
   "outputs": [],
   "source": [
    "import matplotlib.pyplot as plt"
   ]
  },
  {
   "cell_type": "code",
   "execution_count": 4,
   "id": "7257f355",
   "metadata": {},
   "outputs": [
    {
     "data": {
      "image/png": "[encoded data removed]",
      "text/plain": [
       "<Figure size 432x288 with 1 Axes>"
      ]
     },
     "metadata": {
      "needs_background": "light"
     },
     "output_type": "display_data"
    }
   ],
   "source": [
    "plt.hist(generate(10000));"
   ]
  },
  {
   "cell_type": "code",
   "execution_count": 22,
   "id": "4f6be0b7",
   "metadata": {},
   "outputs": [],
   "source": [
    "x0 = 1.\n",
    "gamma = 1.\n",
    "dt = .01\n",
    "u = 1.\n",
    "D = 1."
   ]
  },
  {
   "cell_type": "code",
   "execution_count": 23,
   "id": "31ac1f86",
   "metadata": {},
   "outputs": [],
   "source": [
    "from tqdm import tqdm"
   ]
  },
  {
   "cell_type": "code",
   "execution_count": 25,
   "id": "4be4c4b1",
   "metadata": {},
   "outputs": [
    {
     "name": "stderr",
     "output_type": "stream",
     "text": [
      "100%|██████████| 1000/1000 [00:00<00:00, 2137.92it/s]\n"
     ]
    }
   ],
   "source": [
    "fp_times = []\n",
    "\n",
    "nruns = 1000\n",
    "\n",
    "timespace = np.arange(0, 10, dt)\n",
    "phi = np.zeros_like(timespace)\n",
    "\n",
    "for _ in tqdm(range(nruns)):\n",
    "    ksi = generate(10000)\n",
    "    x = x0\n",
    "    i = 0\n",
    "    t = 0.\n",
    "    while x > 0:\n",
    "        x = x - u * dt + np.sqrt(2 * dt) * ksi[i]\n",
    "        i += 1\n",
    "        t += dt\n",
    "    \n",
    "    phi[abs(timespace - t) <= dt] += 1\n",
    "    fp_times.append(t)\n",
    "# phi = np.array(phi) / nruns\n",
    "phi = np.array(phi) / np.trapz(phi, timespace)"
   ]
  },
  {
   "cell_type": "code",
   "execution_count": 30,
   "id": "09508b89",
   "metadata": {},
   "outputs": [
    {
     "name": "stderr",
     "output_type": "stream",
     "text": [
      "C:\\Users\\kuzne\\AppData\\Local\\Temp/ipykernel_5612/4047350064.py:1: RuntimeWarning: divide by zero encountered in true_divide\n",
      "  phi_an = lambda t: x0 / np.sqrt(4 * np.pi * D * t**3) * np.exp(-(x0 - u / gamma * t)**2 / 4 / D / t)\n",
      "C:\\Users\\kuzne\\AppData\\Local\\Temp/ipykernel_5612/4047350064.py:1: RuntimeWarning: invalid value encountered in multiply\n",
      "  phi_an = lambda t: x0 / np.sqrt(4 * np.pi * D * t**3) * np.exp(-(x0 - u / gamma * t)**2 / 4 / D / t)\n"
     ]
    },
    {
     "data": {
      "image/png": "[encoded data removed]",
      "text/plain": [
       "<Figure size 432x288 with 1 Axes>"
      ]
     },
     "metadata": {
      "needs_background": "light"
     },
     "output_type": "display_data"
    }
   ],
   "source": [
    "phi_an = lambda t: x0 / np.sqrt(4 * np.pi * D * t**3) * np.exp(-(x0 - u / gamma * t)**2 / 4 / D / t)\n",
    "\n",
    "plt.plot(timespace, phi, label='numerical')\n",
    "plt.plot(timespace, phi_an(timespace), '--', label='analytical')\n",
    "plt.title('FP time density')\n",
    "plt.xlabel('t, s')\n",
    "plt.ylabel('$\\phi_{FP}$')\n",
    "plt.legend();"
   ]
  },
  {
   "cell_type": "code",
   "execution_count": 33,
   "id": "63a98fdb",
   "metadata": {},
   "outputs": [],
   "source": [
    "import scipy.special as spspec"
   ]
  },
  {
   "cell_type": "code",
   "execution_count": 34,
   "id": "10856d3c",
   "metadata": {},
   "outputs": [
    {
     "name": "stderr",
     "output_type": "stream",
     "text": [
      "C:\\Users\\kuzne\\AppData\\Local\\Temp/ipykernel_5612/641276090.py:1: RuntimeWarning: divide by zero encountered in true_divide\n",
      "  S_an = lambda t: 1 - .5 * (spspec.erfc((x0 - u / gamma * t) / np.sqrt(4 * D * t)) +\n",
      "C:\\Users\\kuzne\\AppData\\Local\\Temp/ipykernel_5612/641276090.py:2: RuntimeWarning: divide by zero encountered in true_divide\n",
      "  np.exp(u * x0 / gamma / D) * spspec.erfc((x0 + u / gamma * t) / np.sqrt(4 * D * t)))\n"
     ]
    },
    {
     "data": {
      "image/png": "[encoded data removed]",
      "text/plain": [
       "<Figure size 432x288 with 1 Axes>"
      ]
     },
     "metadata": {
      "needs_background": "light"
     },
     "output_type": "display_data"
    }
   ],
   "source": [
    "S_an = lambda t: 1 - .5 * (spspec.erfc((x0 - u / gamma * t) / np.sqrt(4 * D * t)) +\n",
    "                           np.exp(u * x0 / gamma / D) * spspec.erfc((x0 + u / gamma * t) / np.sqrt(4 * D * t)))\n",
    "\n",
    "S = np.zeros_like(timespace)\n",
    "for i, t in enumerate(timespace):\n",
    "    S[i] = 1 - sum(phi[timespace <= t] * dt)\n",
    "plt.plot(timespace, S, label='numerical')\n",
    "plt.plot(timespace, S_an(timespace), '--', label='analytical')\n",
    "plt.title('Survival probability')\n",
    "plt.xlabel('t, s')\n",
    "plt.ylabel('S')\n",
    "plt.legend();"
   ]
  },
  {
   "cell_type": "code",
   "execution_count": 36,
   "id": "b3eaa4e0",
   "metadata": {},
   "outputs": [
    {
     "name": "stdout",
     "output_type": "stream",
     "text": [
      "mean numerical FP time: 1.0577867609903988\n",
      "mean analytical FP time: 1.0\n"
     ]
    }
   ],
   "source": [
    "T = sum(dt * timespace * phi)\n",
    "print(f'mean numerical FP time: {T}')\n",
    "\n",
    "T_an = 1.  # calculated as a first moment of phi_FP via Wolfram Mathematica.\n",
    "print(f'mean analytical FP time: {T_an}')"
   ]
  },
  {
   "cell_type": "code",
   "execution_count": 39,
   "id": "b845a6dc",
   "metadata": {},
   "outputs": [
    {
     "name": "stderr",
     "output_type": "stream",
     "text": [
      "C:\\Users\\kuzne\\AppData\\Local\\Temp/ipykernel_5612/641276090.py:1: RuntimeWarning: divide by zero encountered in true_divide\n",
      "  S_an = lambda t: 1 - .5 * (spspec.erfc((x0 - u / gamma * t) / np.sqrt(4 * D * t)) +\n",
      "C:\\Users\\kuzne\\AppData\\Local\\Temp/ipykernel_5612/641276090.py:2: RuntimeWarning: divide by zero encountered in true_divide\n",
      "  np.exp(u * x0 / gamma / D) * spspec.erfc((x0 + u / gamma * t) / np.sqrt(4 * D * t)))\n"
     ]
    },
    {
     "data": {
      "image/png": "[encoded data removed]",
      "text/plain": [
       "<Figure size 432x288 with 1 Axes>"
      ]
     },
     "metadata": {
      "needs_background": "light"
     },
     "output_type": "display_data"
    }
   ],
   "source": [
    "A_an = lambda t: 1 - S_an(t)\n",
    "\n",
    "A = 1 - S\n",
    "plt.plot(timespace, A, label='numerical')\n",
    "plt.plot(timespace, A_an(timespace), '--', label='analytical')\n",
    "plt.title('Absorbtion probability')\n",
    "plt.xlabel('t, s')\n",
    "plt.ylabel('A')\n",
    "plt.legend();"
   ]
  },
  {
   "cell_type": "markdown",
   "id": "256d7cf3",
   "metadata": {},
   "source": [
    "# Task 2"
   ]
  },
  {
   "cell_type": "markdown",
   "id": "cd56189d",
   "metadata": {},
   "source": [
    "$$\n",
    "T_{\\mathrm{MFPT}}=\\frac{2 \\pi \\gamma \\mathrm{e}^{\\Delta U / k_{\\mathrm{B}} T}}{\\left|U^{\\prime \\prime}\\left(x_{\\min }\\right) U^{\\prime \\prime}\\left(x_{\\max }\\right)\\right|^{1 / 2}}\n",
    "$$\n",
    "where $\\Delta U=U\\left(x_{\\max }\\right)-U\\left(x_{\\min }\\right)$."
   ]
  },
  {
   "cell_type": "code",
   "execution_count": 17,
   "id": "f0d6b882",
   "metadata": {},
   "outputs": [],
   "source": [
    "def U(x, w):\n",
    "    try:\n",
    "        if 0 <= x <= .5:\n",
    "            return w * (x - .25)**2\n",
    "        elif .5 < x <= 1:\n",
    "            return w / 8 - w * (x - .75)**2\n",
    "    except ValueError:\n",
    "        res = w * (x - .25)**2\n",
    "        x1 = x[(.5 < x) & (x <= 1)]\n",
    "        res[(.5 < x) & (x <= 1)] = w / 8 - w * (x1 - .75)**2\n",
    "        return res\n",
    "    \n",
    "    raise ValueError('x should be between 0 and 1!')"
   ]
  },
  {
   "cell_type": "code",
   "execution_count": 37,
   "id": "7a9e895d",
   "metadata": {},
   "outputs": [],
   "source": [
    "def T_MFPT(w):\n",
    "    U_second_min = 2 * w\n",
    "    U_second_max = -2 * w\n",
    "    return 2 * np.pi * np.exp(U(.75, w) - U(.25, w)) / 2 / w"
   ]
  },
  {
   "cell_type": "code",
   "execution_count": 38,
   "id": "0e762ab2",
   "metadata": {},
   "outputs": [
    {
     "data": {
      "image/png": "[encoded data removed]",
      "text/plain": [
       "<Figure size 432x288 with 1 Axes>"
      ]
     },
     "metadata": {
      "needs_background": "light"
     },
     "output_type": "display_data"
    }
   ],
   "source": [
    "w = np.arange(1, 40)\n",
    "plt.plot(w, T_MFPT(w))\n",
    "plt.xlabel('w')\n",
    "plt.ylabel('$T_{MFPT}$');"
   ]
  },
  {
   "cell_type": "code",
   "execution_count": 39,
   "id": "cf9754d3",
   "metadata": {},
   "outputs": [],
   "source": [
    "n_runs = 100\n",
    "wrange = [10, 20, 30]\n",
    "x_0 = .25\n",
    "t_tot = np.zeros((len(wrange), n_runs))\n",
    "dx = .01\n",
    "N = round(1 / dx) + 1\n",
    "n0 = int(x_0 / dx)\n",
    "x = np.linspace(0, 1, num=N)"
   ]
  },
  {
   "cell_type": "code",
   "execution_count": 40,
   "id": "3cb675ba",
   "metadata": {},
   "outputs": [],
   "source": [
    "from tqdm import trange"
   ]
  },
  {
   "cell_type": "code",
   "execution_count": 33,
   "id": "4d4da2fd",
   "metadata": {},
   "outputs": [
    {
     "name": "stderr",
     "output_type": "stream",
     "text": [
      "100%|██████████| 100/100 [00:04<00:00, 21.33it/s]\n",
      "100%|██████████| 100/100 [00:10<00:00,  9.23it/s]\n",
      "100%|██████████| 100/100 [00:28<00:00,  3.52it/s]\n"
     ]
    }
   ],
   "source": [
    "for i, w in enumerate(wrange):\n",
    "    dU = np.diff(U(x, w))\n",
    "    Un = np.exp(-dU / 2) / dx**2\n",
    "    Dn = np.exp(dU / 2) / dx**2\n",
    "    \n",
    "    for k in trange(n_runs):\n",
    "        n = n0\n",
    "        \n",
    "        while n != N - 1:\n",
    "            X1 = np.random.rand() + 1e-12\n",
    "            t = -np.log(X1) / (Un[n] + Dn[n])\n",
    "            t_tot[i, k] += t\n",
    "\n",
    "            if n == 1:\n",
    "                n += 1\n",
    "                continue\n",
    "            \n",
    "            X2 = np.random.rand()\n",
    "            if X2 > Dn[n] / (Dn[n] + Un[n]):\n",
    "                n += 1\n",
    "            else:\n",
    "                n -= 1\n",
    "Tmfpt = np.mean(t_tot, axis=1)"
   ]
  },
  {
   "cell_type": "code",
   "execution_count": 41,
   "id": "0377627f",
   "metadata": {},
   "outputs": [
    {
     "data": {
      "text/plain": [
       "array([0.79785227, 1.86403915, 4.89330795])"
      ]
     },
     "execution_count": 41,
     "metadata": {},
     "output_type": "execute_result"
    }
   ],
   "source": [
    "Tmfpt"
   ]
  },
  {
   "cell_type": "code",
   "execution_count": 42,
   "id": "f7ebfcde",
   "metadata": {},
   "outputs": [
    {
     "data": {
      "image/png": "[encoded data removed]",
      "text/plain": [
       "<Figure size 432x288 with 1 Axes>"
      ]
     },
     "metadata": {
      "needs_background": "light"
     },
     "output_type": "display_data"
    }
   ],
   "source": [
    "plt.scatter(wrange, Tmfpt, label='numerical', s=100)\n",
    "plt.plot(np.linspace(1, 40), T_MFPT(np.linspace(1, 40)), label='analytical')\n",
    "plt.xlabel('w')\n",
    "plt.ylabel('$T_{MFPT}$')\n",
    "plt.legend();"
   ]
  },
  {
   "cell_type": "markdown",
   "id": "0bf4853d",
   "metadata": {},
   "source": [
    "# Task 3"
   ]
  },
  {
   "cell_type": "markdown",
   "id": "69e17992",
   "metadata": {},
   "source": [
    "## 3a"
   ]
  },
  {
   "cell_type": "code",
   "execution_count": null,
   "id": "eab8c7fe",
   "metadata": {},
   "outputs": [],
   "source": []
  }
 ],
 "metadata": {
  "kernelspec": {
   "display_name": "Python 3 (ipykernel)",
   "language": "python",
   "name": "python3"
  },
  "language_info": {
   "codemirror_mode": {
    "name": "ipython",
    "version": 3
   },
   "file_extension": ".py",
   "mimetype": "text/x-python",
   "name": "python",
   "nbconvert_exporter": "python",
   "pygments_lexer": "ipython3",
   "version": "3.9.7"
  }
 },
 "nbformat": 4,
 "nbformat_minor": 5
}
