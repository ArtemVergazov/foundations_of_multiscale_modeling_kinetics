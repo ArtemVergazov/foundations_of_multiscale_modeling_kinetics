{
 "cells": [
  {
   "cell_type": "code",
   "execution_count": 3,
   "metadata": {
    "id": "871am5nt5e1s"
   },
   "outputs": [],
   "source": [
    "import numpy as np\n",
    "import matplotlib.pyplot as plt\n",
    "from tqdm import tqdm"
   ]
  },
  {
   "cell_type": "markdown",
   "metadata": {
    "id": "98Pe_S8RJ9iS"
   },
   "source": [
    "# 1. Diffusion on a semi-infinite interval (7 points)"
   ]
  },
  {
   "cell_type": "markdown",
   "metadata": {
    "id": "p8AOxlxAKVNW"
   },
   "source": [
    "### (a) Find an analytic solution of the 1D Fokker-Planck equation on a semi-infinite interval $x∈[0,∞)$ with the origin $x= 0$ being an adsorbing boundary, i.e. $P(0,t) = 0$ ( $P(∞,t) = 0$ as well. This is a so-called natural boundary condition). Assume that the initial condition is given by $P(x,t= 0) =δ(x−x_0)$ , the diffusion coefficient is $D= \\text{const}$ and the constant drift $u$ is present in the system (i.e.$U(x) =u·x$ )"
   ]
  },
  {
   "cell_type": "markdown",
   "metadata": {
    "id": "maSnwGEGNcjX"
   },
   "source": [
    "1D Fokker-Planck equation\n",
    "\\begin{equation}\n",
    "\\frac{\\partial P(x, t)}{\\partial t}=\\frac{u}{\\gamma} \\frac{\\partial}{\\partial x}P(x, t)+D\\frac{\\partial^{2}}{\\partial x^{2}}P(x, t), x \\geq 0\n",
    "\\end{equation}"
   ]
  },
  {
   "cell_type": "markdown",
   "metadata": {
    "id": "Yzt5l1-e14fc"
   },
   "source": [
    "$\n",
    "\\frac{\\partial}{\\partial t} P(x, t)=\\frac{u}{\\gamma} \\frac{\\partial}{\\partial x} P(x, t)+D \\frac{\\partial^{2}}{\\partial x^{2}} P(x, t), \\\\\n",
    "\\frac{\\partial}{\\partial t} F\\{P(x, t)\\}=\\frac{u}{\\gamma} F\\left\\{\\frac{\\partial}{\\partial x} P(x, t)\\right\\}+D F\\left\\{\\frac{\\partial^{2}}{\\partial x^{2}} P(x, t)\\right\\}, \\\\\n",
    "F\\left\\{\\frac{d^{n} f(x)}{d x^{n}}\\right\\}=(2 \\pi i ξ)^{n} f(\\xi), \\\\\n",
    "\\frac{\\partial}{\\partial t} P(\\xi, t)=\\frac{u}{\\gamma}(2 \\pi i\\xi) P(\\xi, t)+D(2 \\pi i \\xi)^{2} P(\\xi, t), \\\\\n",
    "\\frac{\\partial}{\\partial t} P(\\xi, t)=\\left(\\frac{2 \\pi u \\xi}{\\gamma} i-4 \\pi^{2}\\xi^{2} D\\right) P(\\xi, t), \\\\\n",
    "\\int \\frac{\\partial P(\\xi, t)}{P}=\\int\\left(\\frac{2 \\pi u}{\\gamma}\\ i-4 \\pi^{2} D \\xi^{2}\\right) d t \\\\\n",
    "\\ln P(\\xi, t)=\\left(\\frac{2 \\pi u}{\\gamma} \\xi i-4 \\pi^{2} D \\xi^{2}\\right) t+C \\\\\n",
    "P(\\xi, t)=C e^{ \\left(\\frac{2 \\pi u}{\\gamma}\\xi i-4 \\pi^{2} D \\xi^{2}\\right) t}\n",
    "$"
   ]
  },
  {
   "cell_type": "markdown",
   "metadata": {
    "id": "Mkxdy7f84SEL"
   },
   "source": [
    "initial condition:\n",
    "$\n",
    "P(x,t= 0) =δ(x−x_0) ⇒ P(\\xi,t=0)=F \\left\\{P(x,t=0)\\right\\}=F \\left\\{\\delta(x-x_0)\\right\\}=e^{-2\\pi x_0 \\xi i }\n",
    "$\n",
    "$\n",
    "P(\\xi,t=0) = C = e^{-2\\pi x_0 \\xi i } ⇒ $\n",
    "$$\n",
    "P(\\xi, t)=\n",
    "e^{ \\left(\\frac{2 \\pi u}{\\gamma}\\xi i-4 \\pi^{2} D \\xi^{2}\\right) t -2\\pi x_0 \\xi i}\n",
    "=e^{ (\\frac{u}{\\gamma}t -  x_0)2\\pi\\xi i -4 \\pi^{2} D \\xi^{2} t}\n",
    "$$"
   ]
  },
  {
   "cell_type": "markdown",
   "metadata": {
    "id": "utRGtc9K9Z8e"
   },
   "source": [
    "$\n",
    "P(x,t) = F^{-1}\\{P(\\xi,t)\\} = \\int_{-∞}^{+\\infty} P(\\xi,t)d\\xi\n",
    "= \\int_{-∞}^{+\\infty} e^{-4 \\pi^{2} D \\xi^{2} t}e^{ (\\frac{u}{\\gamma}t -  x_0)2\\pi\\xi i } d\\xi = \\dfrac{1}{\\sqrt{4\\pi D t}}e^{-\\dfrac{\\left(\\dfrac{ut}{\\gamma}+x-x_0 \\right)^2 }{4Dt}}\n",
    "$"
   ]
  },
  {
   "cell_type": "markdown",
   "metadata": {
    "id": "v0WGRFbSNSel"
   },
   "source": [
    " **Method of images**\n",
    "$$\n",
    "\\text{new variable}: v = u/\\gamma\\\\\n",
    "P_m(x, t) = \\frac{1}{\\sqrt{4 \\pi D t}} e^{-\\frac{(x + x_0 + vt)^2}{4 D t}}\\\\\n",
    "0 = P(0 , t) - C_m P_m(0, t) = \\frac{1}{\\sqrt{4 \\pi D t}} e^{-\\frac{(0 - x_0 + vt)^2}{4 D t}} - C_m \\frac{1}{\\sqrt{4 \\pi D t}} e^{-\\frac{(0 + x_0 + vt)^2}{4 D t}}\\\\\n",
    "C_m = e^{\\frac{vx_0}{D}}\n",
    "$$ \n",
    "\n",
    "Now, $P(x,t) = \\frac{1}{\\sqrt{4 \\pi D t}} \\left( e^{-\\frac{(x - x_0 + vt)^2}{4 D t}} - e^{\\frac{vx_0}{D}} e^{-\\frac{(x + x_0 + vt)^2}{4 D t}} \\right)$"
   ]
  },
  {
   "cell_type": "markdown",
   "metadata": {
    "id": "9XImER3uKVF4"
   },
   "source": [
    "### (b) Calculate the survival probability $S(t)  =∫^∞_0P(x,t)dx$ , i.e. the probability that aboundary was not reached, and first-passage probability $φ_{FP}(t) =−\\dfrac{dS(t)}{dt}$."
   ]
  },
  {
   "cell_type": "markdown",
   "metadata": {
    "id": "JyuwpwkRdEJ6"
   },
   "source": [
    "\\begin{equation}\n",
    "\\begin{aligned}\n",
    "&\\varphi(t)=-\\frac{d S(t)}{d t}=-\\int_{0}^{\\infty} \\frac{d}{d t} P(x, t) d t=-\\int_{0}^{\\infty} v \\frac{\\partial}{\\partial x} P\\left(x_{1} t\\right) d x-\\int_{0}^{\\infty} D \\frac{\\partial^{2}}{\\partial x^{2}} P(x, t) d x= \\\\\n",
    "&=-\\left.\\left.v P(x, t)\\right|_{x=0} ^{\\infty} - D\\left(\\frac{\\partial P}{\\partial x}\\right)\\right|_{x=0} ^{\\infty}=v P(x=0, t)+D \\frac{\\partial P(x=0, t)}{\\partial x}=D \\frac{\\partial P(x=0, t)}{\\partial x} \\\\\n",
    "&\\varphi(t)\n",
    "=\\left.\\frac{D}{\\sqrt{4 \\pi D t}}\\left[-\\frac{2\\left(x-x_{0}+vt \\right)}{4 D t}e^{-\\frac{\\left(x- x_{0}+vt\\right)^{2}}{4 D t} }\n",
    "+ e^{\\frac{vx_0}{D}}\\frac{2\\left(x+x_{0}+vt\\right)}{4 D t} e^{-\\frac{\\left(x+x_{0}+vt\\right)^{2}}{4 D t}}\\right]\\right|_{x=0}= \\\\\n",
    "&=\\frac{x_{0}}{\\sqrt{4 \\pi D t^{3}}} e^{-\\frac{\\left(x_{0}-vt\\right)^{2}}{4 D t}} = \\varphi(t)\n",
    "\\end{aligned}\n",
    "\\end{equation}"
   ]
  },
  {
   "cell_type": "markdown",
   "metadata": {
    "id": "sTZ0b5VxD1hX"
   },
   "source": [
    "$\n",
    "S(t) = \\int_0^\\infty P(x,t) dx\\\\\n",
    "\\int_0^\\infty e^{-\\dfrac{(x-a)^2}{b}} dx = |x_1=x-a| = \\int_{-a}^\\infty e^{\\dfrac{-x_1^2}{b}} dx_1 = |x2=x1/\\sqrt{b}|=\\sqrt{b}\\int_{-\\frac{a}{\\sqrt{b}}}^\\infty e^{-x_2^2} dx_2 = \\dfrac{\\sqrt{b\\pi}}{2}\\left( \\text{erf}(\\dfrac{a}{\\sqrt{b}})+1 \\right)\\\\\n",
    "\\text{first exponent: } a = x_0-vt, b = 4Dt\\\\\n",
    "I_1 = \\dfrac{\\sqrt{4\\pi Dt}}{2}\\left( \\text{erf}(\\dfrac{x_0-vt}{\\sqrt{4Dt}})+1 \\right)=\\dfrac{\\sqrt{4\\pi Dt}}{2} \\text{erfc}(\\dfrac{vt-x_0}{\\sqrt{4Dt}})\\\\\n",
    "\\text{second exponent: } a = -x_0-vt, b = 4Dt\\\\\n",
    "I_2 = \\dfrac{\\sqrt{4\\pi Dt}}{2}\\left( -\\text{erf}(\\dfrac{x_0+vt}{\\sqrt{4Dt}})+1 \\right) = \\dfrac{\\sqrt{4\\pi Dt}}{2}\\text{erfc}(\\dfrac{x_0+vt}{\\sqrt{4Dt}})\\\\\n",
    "S(t) = \\frac{1}{\\sqrt{4\\pi D t}}(I_1 - e^{\\dfrac{vx_0}{D}} I_2) = \\dfrac{1}{2}\\left( \\text{erfc}(\\dfrac{vt-x_0}{\\sqrt{4Dt}})- e^{\\dfrac{vx_0}{D}}\\text{erfc}(\\dfrac{x_0+vt}{\\sqrt{4Dt}})\\right)\n",
    "$"
   ]
  },
  {
   "cell_type": "markdown",
   "metadata": {
    "id": "nVWLfpNBKVC9"
   },
   "source": [
    "### (c) Find asymptotic expressions for the quantities $S(t)$ and $φ_{FP}(t)$ for small and large times $t$. Expressions should be obtained in terms of elementary functions."
   ]
  },
  {
   "cell_type": "markdown",
   "metadata": {
    "id": "oPBXrtET55So"
   },
   "source": [
    "$\n",
    "t>>1: \n",
    "φ_{FP} \\sim t^{-3/2}e^{-t}\\\\\n",
    "t<<1: \n",
    "φ_{FP} \\sim t^{-3/2}e^{-1/t}\\\\\n",
    "$"
   ]
  },
  {
   "cell_type": "markdown",
   "metadata": {
    "id": "P_m5QWj7qJrF"
   },
   "source": [
    "$\n",
    "t>>1: \n",
    "erf(x) \\sim \\pm 1 - \\dfrac{e^{-x^2}}{\\sqrt{\\pi}x}, x → \\pm ∞\\\\\n",
    "erfc(x) \\sim \\begin{pmatrix} 0\\\\2 \\end{pmatrix} + \\dfrac{e^{-x^2}}{\\sqrt{\\pi}x}, x → \\pm ∞\\\\\n",
    "S(t) \\sim \\dfrac{e^{-t}}{\\sqrt{t}}\\\\\n",
    "t<<1: \n",
    "S(t) \\approx \\dfrac{1}{2}\\left( \\text{erfc}(\\dfrac{-x_0}{\\sqrt{4Dt}})- e^{\\dfrac{vx_0}{D}}\\text{erfc}(\\dfrac{x_0}{\\sqrt{4Dt}})\\right)=\\dfrac{1}{2}\\left( \\text{erfc}(-C_1t^{-1/2})- e^{C_2}\\text{erfc}(C_1t^{-1/2})\\right)\\approx\\dfrac{1}{2}\\left( (2+C_1\\dfrac{\\sqrt{t}e^t}{\\sqrt{\\pi}})- e^{C_2}(0+C_1\\dfrac{\\sqrt{t}e^t}{\\sqrt{\\pi}})\\right)=1+0.5C_1\\dfrac{\\sqrt{t}e^t}{\\sqrt{\\pi}}(1-e^{C_2})=1+0.5\\dfrac{\\sqrt{t}e^t}{\\sqrt{4\\pi D }}(1-e^{\\dfrac{vx_0}{D}}) → 1\n",
    "$"
   ]
  },
  {
   "cell_type": "markdown",
   "metadata": {
    "id": "mXdObQ8sKVAs"
   },
   "source": [
    "### (d) Find the probability of being trapped (adsorbed) at the origin for the cases of $x_0= 1,u= 0,±1$ using the problem parameters described in (a)"
   ]
  },
  {
   "cell_type": "markdown",
   "metadata": {
    "id": "3wzi3dqmlIRg"
   },
   "source": [
    "$\n",
    "A = 1 - S = 1 - \\dfrac{1}{2}\\left( \\text{erfc}(\\dfrac{vt-x_0}{\\sqrt{4Dt}})- e^{\\dfrac{vx_0}{D}}\\text{erfc}(\\dfrac{x_0+vt}{\\sqrt{4Dt}})\\right), v=u/\\gamma\\\\\n",
    "x_0=1,u=0,\\pm1\n",
    "$"
   ]
  },
  {
   "cell_type": "markdown",
   "metadata": {
    "id": "hhQVwyOTlBiQ"
   },
   "source": [
    "$\n",
    "u = 0\\\\\n",
    "A = 1 - \\dfrac{1}{2}\\left( \\text{erfc}(-\\dfrac{x_0}{\\sqrt{4Dt}})- e^{0}\\text{erfc}(\\dfrac{x_0}{\\sqrt{4Dt}})\\right) \n",
    "= 1 - \\dfrac{1}{2}\\left(2- \\text{erfc}(\\dfrac{x_0}{\\sqrt{4Dt}})- \\text{erfc}(\\dfrac{x_0}{\\sqrt{4Dt}})\\right)\n",
    "= \\text{erfc}(\\dfrac{x_0}{\\sqrt{4Dt}})\n",
    "\\rightarrow 1 \\text{ for } t → ∞\n",
    "$"
   ]
  },
  {
   "cell_type": "markdown",
   "metadata": {
    "id": "ycwU0WKKlQHb"
   },
   "source": [
    "$\n",
    "u = 1\\\\\n",
    "A = 1 - \\dfrac{1}{2}\\left( \\text{erfc}(\\dfrac{t/\\gamma-x_0}{\\sqrt{4Dt}})- e^{\\dfrac{x_0/\\gamma}{D}}\\text{erfc}(\\dfrac{x_0+t/\\gamma}{\\sqrt{4Dt}})\\right)\n",
    "\\rightarrow 1 - \\dfrac{1}{2}\\left( \\text{erfc}(\\dfrac{\\sqrt{t}}{\\sqrt{4D}\\gamma})- e^{\\dfrac{x_0}{D\\gamma}}\\text{erfc}(\\dfrac{\\sqrt{t}}{\\sqrt{4D}\\gamma})\\right)\\\\ \n",
    "\\rightarrow 1\n",
    "\\text{ for } t → ∞\n",
    "$"
   ]
  },
  {
   "cell_type": "markdown",
   "metadata": {
    "id": "kvOOb2QMmpfr"
   },
   "source": [
    "$\n",
    "u = 1\\\\\n",
    "A = 1 - \\dfrac{1}{2}\\left( \\text{erfc}(\\dfrac{-t/\\gamma-x_0}{\\sqrt{4Dt}})- e^{\\dfrac{-x_0/\\gamma}{D}}\\text{erfc}(\\dfrac{x_0-t/\\gamma}{\\sqrt{4Dt}})\\right)\n",
    "\\rightarrow 1 - \\dfrac{1}{2}\\left( \\text{erfc}(\\dfrac{-\\sqrt{t}}{\\sqrt{4D}\\gamma})- e^{-\\dfrac{x_0}{D\\gamma}}\\text{erfc}(\\dfrac{-\\sqrt{t}}{\\sqrt{4D}\\gamma})\\right)\\\\ \n",
    "\\rightarrow 1 - \\dfrac{1}{2}\\left( 2- 2e^{-\\dfrac{x_0}{D\\gamma}}\\right)\n",
    "= e^{-\\dfrac{x_0}{D\\gamma}} \n",
    "\\text{ for } t → ∞\n",
    "$"
   ]
  },
  {
   "cell_type": "markdown",
   "metadata": {
    "id": "gmkFnN1MKU8m"
   },
   "source": [
    "### (e) Simulate the overdamped Langevin equation which corresponds to Fokker-Planck equation (1) with the parameters given in (a). Compute the first-passage time density, survival probability, mean first-passage time and absorption probability.\n",
    " $\n",
    " x_0= 1\\\\\n",
    " u=1\\\\\n",
    " k_BT=1\\\\\n",
    " \\gamma=1\\\\\n",
    " $"
   ]
  },
  {
   "cell_type": "markdown",
   "metadata": {
    "id": "cxtSUeMyvi12"
   },
   "source": [
    "Overdamped Langevin equation:\n",
    "$$\n",
    "\\dfrac{dx}{dt}=-1+F(t)\n",
    "$$\n",
    "where $F(t)$ is a Gaussian white noise,\n",
    "$$\n",
    "\\left < F(t)F(t')\\right > = 2 \\delta(t-t')\n",
    "$$"
   ]
  },
  {
   "cell_type": "code",
   "execution_count": 10,
   "metadata": {
    "id": "8XF8x3Iv0eIb"
   },
   "outputs": [],
   "source": [
    "def fi_th(x0,D,v,t):\n",
    "    return x0/(4*np.pi*D*t**3)**0.5 *np.exp(-(x0-v*t)**2/(4*D*t))"
   ]
  },
  {
   "cell_type": "code",
   "execution_count": 4,
   "metadata": {
    "id": "09r3OwCC1O8Q"
   },
   "outputs": [],
   "source": [
    "n = 10000\n",
    "dt=0.01\n",
    "T = np.arange(0,10,dt)\n",
    "phi_FP = np.zeros(len(T))\n",
    "N = len(T)\n",
    "x0 = 1\n",
    "for j in range(1,n): #number of experiment\n",
    "    x = x0\n",
    "    t = 0\n",
    "    while x >=0 :\n",
    "        F = np.random.normal()*2**0.5\n",
    "        x += (F-1)*dt\n",
    "        t+=dt\n",
    "        if t>T[-1]:\n",
    "            print(\"need larger T\")\n",
    "            T = np.arange(0,2*(T[-1]+dt),dt)\n",
    "    phi_FP[int(t/dt)]+=1\n",
    "phi_FP/=np.trapz(phi_FP,T) #normalisation"
   ]
  },
  {
   "cell_type": "code",
   "execution_count": 14,
   "metadata": {
    "colab": {
     "base_uri": "https://localhost:8080/",
     "height": 309
    },
    "id": "3KAQAKCdBDzW",
    "outputId": "8a70d708-6f3a-40b2-f129-30c472d9ae96"
   },
   "outputs": [
    {
     "data": {
      "image/png": "[encoded data removed]",
      "text/plain": [
       "<Figure size 432x288 with 1 Axes>"
      ]
     },
     "metadata": {
      "needs_background": "light"
     },
     "output_type": "display_data"
    }
   ],
   "source": [
    "plt.plot(T, phi_FP,label='simulation')\n",
    "plt.plot([fi_th(1,1,1,t) for t in np.arange(0.1,10,0.1)],label='theory')\n",
    "plt.legend()\n",
    "plt.title('FP time density',fontsize=20)\n",
    "plt.xlabel('t, s',fontsize=20)\n",
    "plt.ylabel('$\\phi_{FP}$',fontsize=20)\n",
    "plt.show()"
   ]
  },
  {
   "cell_type": "markdown",
   "metadata": {
    "id": "gNQIIJG0CMPt"
   },
   "source": [
    "$\n",
    "S(t) = 1-\\int_0^{t}\\varphi(\\tau)d\\tau\n",
    "$"
   ]
  },
  {
   "cell_type": "code",
   "execution_count": null,
   "metadata": {
    "colab": {
     "base_uri": "https://localhost:8080/",
     "height": 309
    },
    "id": "8ldhCWRLBUC_",
    "outputId": "2711b2ea-224c-49cc-a93d-87a1c3c85788"
   },
   "outputs": [
    {
     "data": {
      "image/png": "[encoded data removed]",
      "text/plain": [
       "<Figure size 432x288 with 1 Axes>"
      ]
     },
     "metadata": {
      "needs_background": "light"
     },
     "output_type": "display_data"
    }
   ],
   "source": [
    "S = np.zeros_like(T)\n",
    "for i, t in enumerate(T):\n",
    "    S[i] = 1 - np.sum(phi_FP[:i] * dt)\n",
    "plt.plot(T, S)\n",
    "plt.title('Survival probability',fontsize=20)\n",
    "plt.xlabel('t, s',fontsize=20)\n",
    "plt.ylabel('S',fontsize=20);"
   ]
  },
  {
   "cell_type": "markdown",
   "metadata": {
    "id": "d9yH11zjDvl6"
   },
   "source": [
    "mean first passage time\n",
    "$\n",
    "<T> = \\int_0^{t^*}t φ_{FR}(t)dt\n",
    "$"
   ]
  },
  {
   "cell_type": "code",
   "execution_count": null,
   "metadata": {
    "colab": {
     "base_uri": "https://localhost:8080/"
    },
    "id": "0slPKJrIDlj-",
    "outputId": "43f386dc-7659-4971-aaf9-60cd69850517"
   },
   "outputs": [
    {
     "name": "stdout",
     "output_type": "stream",
     "text": [
      "T_mfpt = 0.0101\n"
     ]
    }
   ],
   "source": [
    "tmax_index = int(tmax/dt)\n",
    "T_mfpt = np.sum( T * phi_FP *dt )\n",
    "print(\"T_mfpt = {:.4}\".format(T_mfpt))"
   ]
  },
  {
   "cell_type": "code",
   "execution_count": null,
   "metadata": {
    "colab": {
     "base_uri": "https://localhost:8080/",
     "height": 309
    },
    "id": "Y2jLZKa4FuXF",
    "outputId": "9c26d7e3-62a3-4967-9a66-5dcfe9476067"
   },
   "outputs": [
    {
     "data": {
      "image/png": "[encoded data removed]",
      "text/plain": [
       "<Figure size 432x288 with 1 Axes>"
      ]
     },
     "metadata": {
      "needs_background": "light"
     },
     "output_type": "display_data"
    }
   ],
   "source": [
    "plt.plot(T, 1-S)\n",
    "plt.title('Absorption probability',fontsize=20)\n",
    "plt.xlabel('t, s',fontsize=20)\n",
    "plt.ylabel('A',fontsize=20);"
   ]
  },
  {
   "cell_type": "markdown",
   "metadata": {
    "id": "tNFoxUlmxwww"
   },
   "source": [
    "# 2. Kramers formula (5 points)"
   ]
  },
  {
   "cell_type": "markdown",
   "metadata": {
    "id": "hEDVcnQhx5th"
   },
   "source": [
    "(a) Consider a diffusion on an interval $[0,1]$ with a reflecting boundary on the left and an adsorbing boundary on the right. Assume that the initial condition is given by $P(x,t= 0) =δ(x−0.25)$ and the potential has the following form,\n",
    "$$\n",
    "U(x)= \\begin{cases}\n",
    "\\omega(x-0.25)^{2}, & \\text { if } 0 \\leq x \\leq 0.5 \\\\ \\omega / 8-\\omega(x-0.75)^{2}, & \\text { if } 0.5 \\leq x \\leq 1\n",
    "\\end{cases}\n",
    "$$\n",
    "Find an estimation for the mean first-passage time (MFPT) from the Kramers formula."
   ]
  },
  {
   "cell_type": "markdown",
   "metadata": {
    "id": "Xtrf2AhfzPYY"
   },
   "source": [
    "The mean first passage time $T_{MFPT}$ can be estimated as\n",
    "$$\n",
    "T_{\\mathrm{MFPT}}=\\frac{2 \\pi \\gamma \\mathrm{e}^{\\Delta U / k_{\\mathrm{B}} T}}{\\left|U^{\\prime \\prime}\\left(x_{\\min }\\right) U^{\\prime \\prime}\\left(x_{\\max }\\right)\\right|^{1 / 2}}\n",
    "$$\n",
    "where $\\Delta U=U\\left(x_{\\max }\\right)-U\\left(x_{\\min }\\right)$."
   ]
  },
  {
   "cell_type": "markdown",
   "metadata": {
    "id": "L431xey703Cy"
   },
   "source": []
  },
  {
   "cell_type": "code",
   "execution_count": null,
   "metadata": {
    "id": "dawFDpR4zpKJ"
   },
   "outputs": [],
   "source": [
    "def U(x,w):\n",
    "    assert(0<=x<=1)\n",
    "    if 0 <= x <= 0.5:\n",
    "        return w* (x-0.25)**2\n",
    "    elif 0.5 < x <= 1:\n",
    "        return w/8 - w*(x-0.75)**2\n",
    "def T(w):\n",
    "    return 2*np.pi*1*np.exp(U(0.75,w)-U(0.25,w))/(2*w)\n",
    "Tmfpt_kr = [T(w) for w in np.linspace(10,30)]"
   ]
  },
  {
   "cell_type": "markdown",
   "metadata": {
    "id": "MbL5jZYbx5nX"
   },
   "source": [
    "(b) Write a program which computes the mean first-passage time by simulating a discrete jump process on a lattice. Keep in mind that the left boundary of the interval is reflecting while the right one is absorbing. The period of a lattice $δx$ should be relatively small. Use the Monte Carlo algorithm from the paper uploaded into the assignments folder as Doering.pdf (Eqs. 12-17 in the paper) for making decisions about jump directions according to values ofthe potential. Assume that the system is kept at constant temperature $k_BT= 1$. Compare the results with (a) for $ω= 10,20,30$. Does the Kramers formula work well? Discuss an agreement between the simulation results and Kramers formula."
   ]
  },
  {
   "cell_type": "code",
   "execution_count": null,
   "metadata": {
    "id": "42n_elCP57fD"
   },
   "outputs": [],
   "source": [
    "Nruns = 100\n",
    "\n",
    "w = [10,20,30]\n",
    "x_0 = 0.25\n",
    "t_tot = np.zeros((len(w),Nruns))\n",
    "dx = 0.01\n",
    "N = int(1/dx) + 1  # number of nodes\n",
    "n0 = int(x_0/dx) #initial index: x[n0] = x_0\n",
    "x = np.linspace(0,1,N)\n",
    "dU = np.zeros(N)\n",
    "Un = np.zeros(N)\n",
    "Dn = np.zeros(N)"
   ]
  },
  {
   "cell_type": "code",
   "execution_count": null,
   "metadata": {
    "colab": {
     "base_uri": "https://localhost:8080/"
    },
    "id": "jrwsDBXh35hh",
    "outputId": "b0868026-d3b0-4cca-b96e-f2a819cf15ce"
   },
   "outputs": [
    {
     "name": "stderr",
     "output_type": "stream",
     "text": [
      "100%|██████████| 100/100 [00:07<00:00, 13.82it/s]\n",
      "100%|██████████| 100/100 [00:13<00:00,  7.66it/s]\n",
      "100%|██████████| 100/100 [00:37<00:00,  2.70it/s]\n"
     ]
    }
   ],
   "source": [
    "t_tot = np.zeros((len(w),Nruns))\n",
    "for i in range(len(w)):   \n",
    "    for j in range(1,N):\n",
    "        dU[j]=U(x[j],w[i])-U(x[j-1],w[i]) # dU[0] is undefined!\n",
    "    Un[:-1] =dx**(-2)*np.exp( -dU[1:] / 2 ) # Un[N-1] is undefined\n",
    "    Dn[1:] =dx**(-2)*np.exp(е +dU[1:] / 2 ) # Dn[0] is undefined\n",
    "    \n",
    "    for k in tqdm(range(Nruns)):\n",
    "        n = n0\n",
    "        while n != N-1:\n",
    "            X1 = np.random.rand()+1e-12\n",
    "            t = -(Un[n]+Dn[n])**(-1)*np.log(X1)\n",
    "            t_tot[i,k]+=t\n",
    "\n",
    "            if n==1:\n",
    "                n+=1\n",
    "                continue\n",
    "            X2 = np.random.rand()\n",
    "            if X2 > Dn[n]/(Dn[n]+Un[n]):\n",
    "                n+=1\n",
    "            else:\n",
    "                n-=1\n",
    "Tmfpt = np.mean(t_tot, axis = 1)"
   ]
  },
  {
   "cell_type": "code",
   "execution_count": 2,
   "metadata": {},
   "outputs": [],
   "source": [
    "import numpy as np"
   ]
  },
  {
   "cell_type": "code",
   "execution_count": 5,
   "metadata": {
    "colab": {
     "base_uri": "https://localhost:8080/",
     "height": 310
    },
    "id": "BAAIIHw7sm7B",
    "outputId": "851d739e-2cf3-4ad5-ca5e-336b0d4b35f8"
   },
   "outputs": [
    {
     "ename": "NameError",
     "evalue": "name 'T' is not defined",
     "output_type": "error",
     "traceback": [
      "\u001b[1;31m---------------------------------------------------------------------------\u001b[0m",
      "\u001b[1;31mNameError\u001b[0m                                 Traceback (most recent call last)",
      "\u001b[1;32m~\\AppData\\Local\\Temp/ipykernel_17464/473604584.py\u001b[0m in \u001b[0;36m<module>\u001b[1;34m\u001b[0m\n\u001b[1;32m----> 1\u001b[1;33m \u001b[0mTmfpt_kr\u001b[0m \u001b[1;33m=\u001b[0m \u001b[1;33m[\u001b[0m\u001b[0mT\u001b[0m\u001b[1;33m(\u001b[0m\u001b[0mw\u001b[0m\u001b[1;33m)\u001b[0m \u001b[1;32mfor\u001b[0m \u001b[0mw\u001b[0m \u001b[1;32min\u001b[0m \u001b[0mnp\u001b[0m\u001b[1;33m.\u001b[0m\u001b[0mlinspace\u001b[0m\u001b[1;33m(\u001b[0m\u001b[1;36m10\u001b[0m\u001b[1;33m,\u001b[0m\u001b[1;36m30\u001b[0m\u001b[1;33m)\u001b[0m\u001b[1;33m]\u001b[0m\u001b[1;33m\u001b[0m\u001b[1;33m\u001b[0m\u001b[0m\n\u001b[0m\u001b[0;32m      2\u001b[0m \u001b[0mplt\u001b[0m\u001b[1;33m.\u001b[0m\u001b[0mscatter\u001b[0m\u001b[1;33m(\u001b[0m\u001b[0mw\u001b[0m\u001b[1;33m,\u001b[0m \u001b[0mTmfpt\u001b[0m\u001b[1;33m,\u001b[0m \u001b[0mlabel\u001b[0m \u001b[1;33m=\u001b[0m \u001b[1;34m'Monte Carlo'\u001b[0m\u001b[1;33m)\u001b[0m\u001b[1;33m\u001b[0m\u001b[1;33m\u001b[0m\u001b[0m\n\u001b[0;32m      3\u001b[0m \u001b[0mplt\u001b[0m\u001b[1;33m.\u001b[0m\u001b[0mplot\u001b[0m\u001b[1;33m(\u001b[0m\u001b[0mnp\u001b[0m\u001b[1;33m.\u001b[0m\u001b[0mlinspace\u001b[0m\u001b[1;33m(\u001b[0m\u001b[1;36m10\u001b[0m\u001b[1;33m,\u001b[0m\u001b[1;36m30\u001b[0m\u001b[1;33m)\u001b[0m\u001b[1;33m,\u001b[0m\u001b[0mTmfpt_kr\u001b[0m\u001b[1;33m,\u001b[0m \u001b[0mlabel\u001b[0m \u001b[1;33m=\u001b[0m \u001b[1;34m'Kramers'\u001b[0m\u001b[1;33m)\u001b[0m\u001b[1;33m\u001b[0m\u001b[1;33m\u001b[0m\u001b[0m\n\u001b[0;32m      4\u001b[0m \u001b[0mplt\u001b[0m\u001b[1;33m.\u001b[0m\u001b[0mxlabel\u001b[0m\u001b[1;33m(\u001b[0m\u001b[1;34m\"w\"\u001b[0m\u001b[1;33m,\u001b[0m \u001b[0mfontsize\u001b[0m\u001b[1;33m=\u001b[0m\u001b[1;36m20\u001b[0m\u001b[1;33m)\u001b[0m\u001b[1;33m\u001b[0m\u001b[1;33m\u001b[0m\u001b[0m\n\u001b[0;32m      5\u001b[0m \u001b[0mplt\u001b[0m\u001b[1;33m.\u001b[0m\u001b[0mylabel\u001b[0m\u001b[1;33m(\u001b[0m\u001b[1;34m\"$T_{MFPT}$\"\u001b[0m\u001b[1;33m,\u001b[0m \u001b[0mfontsize\u001b[0m\u001b[1;33m=\u001b[0m\u001b[1;36m20\u001b[0m\u001b[1;33m)\u001b[0m\u001b[1;33m\u001b[0m\u001b[1;33m\u001b[0m\u001b[0m\n",
      "\u001b[1;32m~\\AppData\\Local\\Temp/ipykernel_17464/473604584.py\u001b[0m in \u001b[0;36m<listcomp>\u001b[1;34m(.0)\u001b[0m\n\u001b[1;32m----> 1\u001b[1;33m \u001b[0mTmfpt_kr\u001b[0m \u001b[1;33m=\u001b[0m \u001b[1;33m[\u001b[0m\u001b[0mT\u001b[0m\u001b[1;33m(\u001b[0m\u001b[0mw\u001b[0m\u001b[1;33m)\u001b[0m \u001b[1;32mfor\u001b[0m \u001b[0mw\u001b[0m \u001b[1;32min\u001b[0m \u001b[0mnp\u001b[0m\u001b[1;33m.\u001b[0m\u001b[0mlinspace\u001b[0m\u001b[1;33m(\u001b[0m\u001b[1;36m10\u001b[0m\u001b[1;33m,\u001b[0m\u001b[1;36m30\u001b[0m\u001b[1;33m)\u001b[0m\u001b[1;33m]\u001b[0m\u001b[1;33m\u001b[0m\u001b[1;33m\u001b[0m\u001b[0m\n\u001b[0m\u001b[0;32m      2\u001b[0m \u001b[0mplt\u001b[0m\u001b[1;33m.\u001b[0m\u001b[0mscatter\u001b[0m\u001b[1;33m(\u001b[0m\u001b[0mw\u001b[0m\u001b[1;33m,\u001b[0m \u001b[0mTmfpt\u001b[0m\u001b[1;33m,\u001b[0m \u001b[0mlabel\u001b[0m \u001b[1;33m=\u001b[0m \u001b[1;34m'Monte Carlo'\u001b[0m\u001b[1;33m)\u001b[0m\u001b[1;33m\u001b[0m\u001b[1;33m\u001b[0m\u001b[0m\n\u001b[0;32m      3\u001b[0m \u001b[0mplt\u001b[0m\u001b[1;33m.\u001b[0m\u001b[0mplot\u001b[0m\u001b[1;33m(\u001b[0m\u001b[0mnp\u001b[0m\u001b[1;33m.\u001b[0m\u001b[0mlinspace\u001b[0m\u001b[1;33m(\u001b[0m\u001b[1;36m10\u001b[0m\u001b[1;33m,\u001b[0m\u001b[1;36m30\u001b[0m\u001b[1;33m)\u001b[0m\u001b[1;33m,\u001b[0m\u001b[0mTmfpt_kr\u001b[0m\u001b[1;33m,\u001b[0m \u001b[0mlabel\u001b[0m \u001b[1;33m=\u001b[0m \u001b[1;34m'Kramers'\u001b[0m\u001b[1;33m)\u001b[0m\u001b[1;33m\u001b[0m\u001b[1;33m\u001b[0m\u001b[0m\n\u001b[0;32m      4\u001b[0m \u001b[0mplt\u001b[0m\u001b[1;33m.\u001b[0m\u001b[0mxlabel\u001b[0m\u001b[1;33m(\u001b[0m\u001b[1;34m\"w\"\u001b[0m\u001b[1;33m,\u001b[0m \u001b[0mfontsize\u001b[0m\u001b[1;33m=\u001b[0m\u001b[1;36m20\u001b[0m\u001b[1;33m)\u001b[0m\u001b[1;33m\u001b[0m\u001b[1;33m\u001b[0m\u001b[0m\n\u001b[0;32m      5\u001b[0m \u001b[0mplt\u001b[0m\u001b[1;33m.\u001b[0m\u001b[0mylabel\u001b[0m\u001b[1;33m(\u001b[0m\u001b[1;34m\"$T_{MFPT}$\"\u001b[0m\u001b[1;33m,\u001b[0m \u001b[0mfontsize\u001b[0m\u001b[1;33m=\u001b[0m\u001b[1;36m20\u001b[0m\u001b[1;33m)\u001b[0m\u001b[1;33m\u001b[0m\u001b[1;33m\u001b[0m\u001b[0m\n",
      "\u001b[1;31mNameError\u001b[0m: name 'T' is not defined"
     ]
    }
   ],
   "source": [
    "Tmfpt_kr = [T(w) for w in np.linspace(10,30)]\n",
    "plt.scatter(w, Tmfpt, label = 'Monte Carlo')\n",
    "plt.plot(np.linspace(10,30),Tmfpt_kr, label = 'Kramers')\n",
    "plt.xlabel(\"w\", fontsize=20)\n",
    "plt.ylabel(\"$T_{MFPT}$\", fontsize=20)\n",
    "plt.title(\"$T_{MFPT}$ \", fontsize=20)\n",
    "plt.legend()\n",
    "plt.show()"
   ]
  },
  {
   "cell_type": "markdown",
   "metadata": {
    "id": "ZXs3N8Hsg9Rz"
   },
   "source": [
    "**Kramers formula works well**"
   ]
  },
  {
   "cell_type": "markdown",
   "metadata": {
    "id": "A_EB2ma3xwGY"
   },
   "source": [
    "# 3. Numerical methods for Fokker-Planck equation* (2 points)"
   ]
  }
 ],
 "metadata": {
  "colab": {
   "name": "HW2_Avilkin.ipynb",
   "provenance": []
  },
  "kernelspec": {
   "display_name": "Python 3 (ipykernel)",
   "language": "python",
   "name": "python3"
  },
  "language_info": {
   "codemirror_mode": {
    "name": "ipython",
    "version": 3
   },
   "file_extension": ".py",
   "mimetype": "text/x-python",
   "name": "python",
   "nbconvert_exporter": "python",
   "pygments_lexer": "ipython3",
   "version": "3.9.7"
  }
 },
 "nbformat": 4,
 "nbformat_minor": 1
}
