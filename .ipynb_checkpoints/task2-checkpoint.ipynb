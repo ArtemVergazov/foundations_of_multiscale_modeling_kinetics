{
 "cells": [
  {
   "cell_type": "markdown",
   "id": "434138f8",
   "metadata": {},
   "source": [
    "Subtask a.\n",
    "\n",
    "Assuming that $\\langle \\vec{V}(0) \\cdot \\vec{F}(t) \\rangle = 0$, we multiply the equation by $\\vec{V}(0)$ and average:\n",
    "\n",
    "$$M \\frac{d}{dt} \\langle \\vec{V}(0) \\vec{V}(t) \\rangle = -\\gamma \\langle \\vec{V}(0) \\vec{V}(t) \\rangle$$\n",
    "\n",
    "$$\\langle \\vec{V}(0) \\vec{V}(t) \\rangle = \\langle \\vec{V}(0)^2 \\rangle e^{-\\frac{\\gamma}{m} t}$$\n",
    "\n",
    "$$K_V(t) = \\frac{\\langle \\vec{V}(0) \\vec{V}(t) \\rangle}{\\langle \\vec{V}(0)^2 \\rangle} = e^{-\\frac{\\gamma}{m} t}$$"
   ]
  },
  {
   "cell_type": "code",
   "execution_count": 1,
   "id": "b5a3dd89",
   "metadata": {},
   "outputs": [],
   "source": [
    "import numpy as np"
   ]
  },
  {
   "cell_type": "code",
   "execution_count": 17,
   "id": "096d431d",
   "metadata": {},
   "outputs": [],
   "source": [
    "# Subtask b.\n",
    "U1 = np.random.random_sample(size=10000)  # [0, 1)\n",
    "U2 = np.random.random_sample(size=10000)  # [0, 1)"
   ]
  },
  {
   "cell_type": "code",
   "execution_count": 18,
   "id": "fa8f05ac",
   "metadata": {},
   "outputs": [],
   "source": [
    "Y = np.sqrt(-2 * np.log(U1)) * np.cos(2 * np.pi * U2)"
   ]
  },
  {
   "cell_type": "code",
   "execution_count": 19,
   "id": "0b6b490d",
   "metadata": {},
   "outputs": [],
   "source": [
    "import matplotlib.pyplot as plt"
   ]
  },
  {
   "cell_type": "code",
   "execution_count": 21,
   "id": "d5cce79c",
   "metadata": {},
   "outputs": [
    {
     "data": {
      "image/png": "[encoded data removed]",
      "text/plain": [
       "<Figure size 432x288 with 1 Axes>"
      ]
     },
     "metadata": {
      "needs_background": "light"
     },
     "output_type": "display_data"
    }
   ],
   "source": [
    "plt.hist(Y, bins='auto');"
   ]
  },
  {
   "cell_type": "code",
   "execution_count": 23,
   "id": "d6ec3d45",
   "metadata": {},
   "outputs": [],
   "source": [
    "# Subtask c.\n",
    "def generate(n):\n",
    "    U1 = np.random.random_sample(size=n)  # [0, 1)\n",
    "    U2 = np.random.random_sample(size=n)  # [0, 1)\n",
    "    return np.sqrt(-2 * np.log(U1)) * np.cos(2 * np.pi * U2)"
   ]
  },
  {
   "cell_type": "code",
   "execution_count": 29,
   "id": "a027a681",
   "metadata": {},
   "outputs": [
    {
     "data": {
      "image/png": "[encoded data removed]",
      "text/plain": [
       "<Figure size 432x288 with 1 Axes>"
      ]
     },
     "metadata": {
      "needs_background": "light"
     },
     "output_type": "display_data"
    }
   ],
   "source": [
    "plt.hist(generate(10000));"
   ]
  },
  {
   "cell_type": "code",
   "execution_count": 31,
   "id": "c1eb1171",
   "metadata": {},
   "outputs": [],
   "source": [
    "gamma = 1.\n",
    "M = 1.\n",
    "kbT = 1.\n",
    "Gamma = 2 * kbT * gamma\n",
    "dt = .01"
   ]
  },
  {
   "cell_type": "code",
   "execution_count": 33,
   "id": "04f7a2ad",
   "metadata": {},
   "outputs": [],
   "source": [
    "v = 0.\n",
    "\n",
    "ksi = generate(10000)\n",
    "for i in range(10000):\n",
    "    v = v - gamma / M * v * dt + 1 / M * np.sqrt(Gamma * dt) * ksi[i]\n",
    "    "
   ]
  },
  {
   "cell_type": "code",
   "execution_count": null,
   "id": "b9b739ee",
   "metadata": {},
   "outputs": [],
   "source": []
  },
  {
   "cell_type": "code",
   "execution_count": null,
   "id": "6cd74503",
   "metadata": {},
   "outputs": [],
   "source": []
  }
 ],
 "metadata": {
  "kernelspec": {
   "display_name": "Python 3 (ipykernel)",
   "language": "python",
   "name": "python3"
  },
  "language_info": {
   "codemirror_mode": {
    "name": "ipython",
    "version": 3
   },
   "file_extension": ".py",
   "mimetype": "text/x-python",
   "name": "python",
   "nbconvert_exporter": "python",
   "pygments_lexer": "ipython3",
   "version": "3.9.7"
  }
 },
 "nbformat": 4,
 "nbformat_minor": 5
}
